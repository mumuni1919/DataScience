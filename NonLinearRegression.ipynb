{
 "cells": [
  {
   "cell_type": "markdown",
   "metadata": {},
   "source": [
    "# Non Linear Regression Using Media Sales Data"
   ]
  },
  {
   "cell_type": "markdown",
   "metadata": {},
   "source": [
    "### Definition\n",
    "\n",
    "Simple linear regression relates two variables (X and Y) with a straight line (y = mx + b), while nonlinear regression relates the two variables in a nonlinear (curved) relationship.Non Linear Regression is neccessary If the data shows a curvy trend, then linear regression will not produce very accurate results when compared to a non-linear regression since linear regression presumes that the data is linear.\n",
    "There are different types on Non Linear Regression. Examples mentioned below:\n",
    "* Quadratic\n",
    "* Exponential\n",
    "* Logarithmic\n",
    "* Sigmoidal/Logistic"
   ]
  },
  {
   "cell_type": "markdown",
   "metadata": {},
   "source": [
    "#### The objective is to:\n",
    "* Implement Multiple Linear Regression using Scikit Learn on the Utrecht Housing Dataset\n",
    "* Use Multicollinearity function to to determine which independent features should be used in the process\n",
    "* Create a non linear regression model which will be trained and tested\n",
    "* Evaluate the Model to know its efficiency in making predictions"
   ]
  },
  {
   "cell_type": "markdown",
   "metadata": {},
   "source": [
    "#### Processes required to achieve the objective\n",
    "\n",
    "* Data Understanding\n",
    "* Import necessary libraries\n",
    "* Data Importation using Pandas to create easily readable dataframe\n",
    "* Exploration of Data - Checking general data overview using 'describe' amd 'info' \n",
    "* Data cleaning if necessary by removing redundant or empty data\n",
    "* Data Visualisation (checking correlation) using matplotlib to create various plots \n",
    "* Use Multicollinearity function to help select features for the Model\n",
    "* Feature Selection\n",
    "* Use plots to see the distribution of trained data and ascertain that data training has been achieved\n",
    "* splitting the data into training and testing sets using sklearn\n",
    "* create the model using sklearn\n",
    "* check and put into variables/place holder the coefficients & intercept of the model\n",
    "* plot the output of the model\n",
    "* Evaluate the model\n",
    "* try a higher oder non linear / polynomial regression\n",
    "* Remarks about observation "
   ]
  },
  {
   "cell_type": "markdown",
   "metadata": {},
   "source": [
    "## Understanding the Data\n",
    "\n",
    "The advertising dataset captures the sales revenue generated with respect to advertisement costs across multiple channels like radio, tv, and newspapers.\n",
    "\n",
    "It is required to understand the impact of ad budgets on the overall sales."
   ]
  },
  {
   "cell_type": "markdown",
   "metadata": {},
   "source": [
    "### Import Libraries"
   ]
  },
  {
   "cell_type": "code",
   "execution_count": 450,
   "metadata": {},
   "outputs": [],
   "source": [
    "import pandas as pd # for reading data\n",
    "import numpy as np # for doing vital mathematical operations\n",
    "import matplotlib.pyplot as plt # for plotting graphs"
   ]
  },
  {
   "cell_type": "code",
   "execution_count": 451,
   "metadata": {},
   "outputs": [],
   "source": [
    "df = pd.read_csv(\"MediaSales.csv\")"
   ]
  },
  {
   "cell_type": "code",
   "execution_count": 452,
   "metadata": {},
   "outputs": [
    {
     "data": {
      "text/html": [
       "<div>\n",
       "<style scoped>\n",
       "    .dataframe tbody tr th:only-of-type {\n",
       "        vertical-align: middle;\n",
       "    }\n",
       "\n",
       "    .dataframe tbody tr th {\n",
       "        vertical-align: top;\n",
       "    }\n",
       "\n",
       "    .dataframe thead th {\n",
       "        text-align: right;\n",
       "    }\n",
       "</style>\n",
       "<table border=\"1\" class=\"dataframe\">\n",
       "  <thead>\n",
       "    <tr style=\"text-align: right;\">\n",
       "      <th></th>\n",
       "      <th>TV</th>\n",
       "      <th>Radio</th>\n",
       "      <th>Newspaper</th>\n",
       "      <th>Sales</th>\n",
       "    </tr>\n",
       "  </thead>\n",
       "  <tbody>\n",
       "    <tr>\n",
       "      <th>0</th>\n",
       "      <td>230.1</td>\n",
       "      <td>37.8</td>\n",
       "      <td>69.2</td>\n",
       "      <td>22.1</td>\n",
       "    </tr>\n",
       "    <tr>\n",
       "      <th>1</th>\n",
       "      <td>44.5</td>\n",
       "      <td>39.3</td>\n",
       "      <td>45.1</td>\n",
       "      <td>10.4</td>\n",
       "    </tr>\n",
       "    <tr>\n",
       "      <th>2</th>\n",
       "      <td>17.2</td>\n",
       "      <td>45.9</td>\n",
       "      <td>69.3</td>\n",
       "      <td>12.0</td>\n",
       "    </tr>\n",
       "    <tr>\n",
       "      <th>3</th>\n",
       "      <td>151.5</td>\n",
       "      <td>41.3</td>\n",
       "      <td>58.5</td>\n",
       "      <td>16.5</td>\n",
       "    </tr>\n",
       "    <tr>\n",
       "      <th>4</th>\n",
       "      <td>180.8</td>\n",
       "      <td>10.8</td>\n",
       "      <td>58.4</td>\n",
       "      <td>17.9</td>\n",
       "    </tr>\n",
       "  </tbody>\n",
       "</table>\n",
       "</div>"
      ],
      "text/plain": [
       "      TV  Radio  Newspaper  Sales\n",
       "0  230.1   37.8       69.2   22.1\n",
       "1   44.5   39.3       45.1   10.4\n",
       "2   17.2   45.9       69.3   12.0\n",
       "3  151.5   41.3       58.5   16.5\n",
       "4  180.8   10.8       58.4   17.9"
      ]
     },
     "execution_count": 452,
     "metadata": {},
     "output_type": "execute_result"
    }
   ],
   "source": [
    "df.head()"
   ]
  },
  {
   "cell_type": "code",
   "execution_count": 453,
   "metadata": {},
   "outputs": [
    {
     "name": "stdout",
     "output_type": "stream",
     "text": [
      "<class 'pandas.core.frame.DataFrame'>\n",
      "RangeIndex: 200 entries, 0 to 199\n",
      "Data columns (total 4 columns):\n",
      " #   Column     Non-Null Count  Dtype  \n",
      "---  ------     --------------  -----  \n",
      " 0   TV         200 non-null    float64\n",
      " 1   Radio      200 non-null    float64\n",
      " 2   Newspaper  200 non-null    float64\n",
      " 3   Sales      200 non-null    float64\n",
      "dtypes: float64(4)\n",
      "memory usage: 6.4 KB\n"
     ]
    }
   ],
   "source": [
    "df.info()"
   ]
  },
  {
   "cell_type": "code",
   "execution_count": 454,
   "metadata": {},
   "outputs": [
    {
     "data": {
      "text/html": [
       "<div>\n",
       "<style scoped>\n",
       "    .dataframe tbody tr th:only-of-type {\n",
       "        vertical-align: middle;\n",
       "    }\n",
       "\n",
       "    .dataframe tbody tr th {\n",
       "        vertical-align: top;\n",
       "    }\n",
       "\n",
       "    .dataframe thead th {\n",
       "        text-align: right;\n",
       "    }\n",
       "</style>\n",
       "<table border=\"1\" class=\"dataframe\">\n",
       "  <thead>\n",
       "    <tr style=\"text-align: right;\">\n",
       "      <th></th>\n",
       "      <th>TV</th>\n",
       "      <th>Radio</th>\n",
       "      <th>Newspaper</th>\n",
       "      <th>Sales</th>\n",
       "    </tr>\n",
       "  </thead>\n",
       "  <tbody>\n",
       "    <tr>\n",
       "      <th>count</th>\n",
       "      <td>200.000000</td>\n",
       "      <td>200.000000</td>\n",
       "      <td>200.000000</td>\n",
       "      <td>200.000000</td>\n",
       "    </tr>\n",
       "    <tr>\n",
       "      <th>mean</th>\n",
       "      <td>147.042500</td>\n",
       "      <td>23.264000</td>\n",
       "      <td>30.554000</td>\n",
       "      <td>15.130500</td>\n",
       "    </tr>\n",
       "    <tr>\n",
       "      <th>std</th>\n",
       "      <td>85.854236</td>\n",
       "      <td>14.846809</td>\n",
       "      <td>21.778621</td>\n",
       "      <td>5.283892</td>\n",
       "    </tr>\n",
       "    <tr>\n",
       "      <th>min</th>\n",
       "      <td>0.700000</td>\n",
       "      <td>0.000000</td>\n",
       "      <td>0.300000</td>\n",
       "      <td>1.600000</td>\n",
       "    </tr>\n",
       "    <tr>\n",
       "      <th>25%</th>\n",
       "      <td>74.375000</td>\n",
       "      <td>9.975000</td>\n",
       "      <td>12.750000</td>\n",
       "      <td>11.000000</td>\n",
       "    </tr>\n",
       "    <tr>\n",
       "      <th>50%</th>\n",
       "      <td>149.750000</td>\n",
       "      <td>22.900000</td>\n",
       "      <td>25.750000</td>\n",
       "      <td>16.000000</td>\n",
       "    </tr>\n",
       "    <tr>\n",
       "      <th>75%</th>\n",
       "      <td>218.825000</td>\n",
       "      <td>36.525000</td>\n",
       "      <td>45.100000</td>\n",
       "      <td>19.050000</td>\n",
       "    </tr>\n",
       "    <tr>\n",
       "      <th>max</th>\n",
       "      <td>296.400000</td>\n",
       "      <td>49.600000</td>\n",
       "      <td>114.000000</td>\n",
       "      <td>27.000000</td>\n",
       "    </tr>\n",
       "  </tbody>\n",
       "</table>\n",
       "</div>"
      ],
      "text/plain": [
       "               TV       Radio   Newspaper       Sales\n",
       "count  200.000000  200.000000  200.000000  200.000000\n",
       "mean   147.042500   23.264000   30.554000   15.130500\n",
       "std     85.854236   14.846809   21.778621    5.283892\n",
       "min      0.700000    0.000000    0.300000    1.600000\n",
       "25%     74.375000    9.975000   12.750000   11.000000\n",
       "50%    149.750000   22.900000   25.750000   16.000000\n",
       "75%    218.825000   36.525000   45.100000   19.050000\n",
       "max    296.400000   49.600000  114.000000   27.000000"
      ]
     },
     "execution_count": 454,
     "metadata": {},
     "output_type": "execute_result"
    }
   ],
   "source": [
    "df.describe()"
   ]
  },
  {
   "cell_type": "markdown",
   "metadata": {},
   "source": [
    "### Initial Feature Selection"
   ]
  },
  {
   "cell_type": "code",
   "execution_count": 455,
   "metadata": {},
   "outputs": [
    {
     "data": {
      "text/plain": [
       "False"
      ]
     },
     "execution_count": 455,
     "metadata": {},
     "output_type": "execute_result"
    }
   ],
   "source": [
    "df.isnull().values.any()"
   ]
  },
  {
   "cell_type": "code",
   "execution_count": 456,
   "metadata": {},
   "outputs": [
    {
     "data": {
      "text/plain": [
       "TV           0.901208\n",
       "Radio        0.349631\n",
       "Newspaper    0.157960\n",
       "Sales        1.000000\n",
       "Name: Sales, dtype: float64"
      ]
     },
     "execution_count": 456,
     "metadata": {},
     "output_type": "execute_result"
    }
   ],
   "source": [
    "df.corr()['Sales']"
   ]
  },
  {
   "cell_type": "markdown",
   "metadata": {},
   "source": [
    "* From above we see that TV is highly correlated to Sales. We can check further with the following steps"
   ]
  },
  {
   "cell_type": "markdown",
   "metadata": {},
   "source": [
    "## Data Visualisation"
   ]
  },
  {
   "cell_type": "code",
   "execution_count": 457,
   "metadata": {},
   "outputs": [
    {
     "data": {
      "image/png": "[encoded data removed]",
      "text/plain": [
       "<Figure size 432x288 with 4 Axes>"
      ]
     },
     "metadata": {
      "needs_background": "light"
     },
     "output_type": "display_data"
    }
   ],
   "source": [
    "df.hist()\n",
    "plt.show()"
   ]
  },
  {
   "cell_type": "code",
   "execution_count": 458,
   "metadata": {},
   "outputs": [
    {
     "data": {
      "text/plain": [
       "Text(0, 0.5, 'Sales')"
      ]
     },
     "execution_count": 458,
     "metadata": {},
     "output_type": "execute_result"
    },
    {
     "data": {
      "image/png": "[encoded data removed]",
      "text/plain": [
       "<Figure size 432x288 with 1 Axes>"
      ]
     },
     "metadata": {
      "needs_background": "light"
     },
     "output_type": "display_data"
    }
   ],
   "source": [
    "plt.scatter(df.TV, df.Sales)\n",
    "\n",
    "# adding x and y lables to the plot\n",
    "plt.xlabel(\"TV\")\n",
    "plt.ylabel(\"Sales\")"
   ]
  },
  {
   "cell_type": "code",
   "execution_count": 459,
   "metadata": {},
   "outputs": [
    {
     "data": {
      "text/plain": [
       "Text(0, 0.5, 'Sales')"
      ]
     },
     "execution_count": 459,
     "metadata": {},
     "output_type": "execute_result"
    },
    {
     "data": {
      "image/png": "[encoded data removed]",
      "text/plain": [
       "<Figure size 432x288 with 1 Axes>"
      ]
     },
     "metadata": {
      "needs_background": "light"
     },
     "output_type": "display_data"
    }
   ],
   "source": [
    "plt.scatter(df.Radio, df.Sales)\n",
    "\n",
    "# adding x and y lables to the plot\n",
    "plt.xlabel(\"Radio\")\n",
    "plt.ylabel(\"Sales\")"
   ]
  },
  {
   "cell_type": "code",
   "execution_count": 460,
   "metadata": {},
   "outputs": [
    {
     "data": {
      "text/plain": [
       "Text(0, 0.5, 'Sales')"
      ]
     },
     "execution_count": 460,
     "metadata": {},
     "output_type": "execute_result"
    },
    {
     "data": {
      "image/png": "[encoded data removed]",
      "text/plain": [
       "<Figure size 432x288 with 1 Axes>"
      ]
     },
     "metadata": {
      "needs_background": "light"
     },
     "output_type": "display_data"
    }
   ],
   "source": [
    "plt.scatter(df.Newspaper, df.Sales)\n",
    "\n",
    "# adding x and y lables to the plot\n",
    "plt.xlabel(\"Newspaper\")\n",
    "plt.ylabel(\"Sales\")"
   ]
  },
  {
   "cell_type": "markdown",
   "metadata": {},
   "source": [
    "* We can see from the plots that TV data is not as scattered as the others\n",
    "* We can also see that the TV data is not very linear and has some level of non-linearity to it therefore requires non-linear regression model"
   ]
  },
  {
   "cell_type": "markdown",
   "metadata": {},
   "source": [
    "## Final Feature Selection:  Defining elements for our model"
   ]
  },
  {
   "cell_type": "code",
   "execution_count": 461,
   "metadata": {},
   "outputs": [],
   "source": [
    "import statsmodels.api as sm"
   ]
  },
  {
   "cell_type": "code",
   "execution_count": 462,
   "metadata": {},
   "outputs": [],
   "source": [
    "X =df[['TV', 'Radio', 'Newspaper']]\n",
    "y =df[['Sales']]"
   ]
  },
  {
   "cell_type": "code",
   "execution_count": 463,
   "metadata": {},
   "outputs": [],
   "source": [
    "X = sm.add_constant(X)\n",
    "model = sm.OLS(y, X).fit()"
   ]
  },
  {
   "cell_type": "code",
   "execution_count": 464,
   "metadata": {},
   "outputs": [
    {
     "data": {
      "text/html": [
       "<table class=\"simpletable\">\n",
       "<caption>OLS Regression Results</caption>\n",
       "<tr>\n",
       "  <th>Dep. Variable:</th>          <td>Sales</td>      <th>  R-squared:         </th> <td>   0.903</td>\n",
       "</tr>\n",
       "<tr>\n",
       "  <th>Model:</th>                   <td>OLS</td>       <th>  Adj. R-squared:    </th> <td>   0.901</td>\n",
       "</tr>\n",
       "<tr>\n",
       "  <th>Method:</th>             <td>Least Squares</td>  <th>  F-statistic:       </th> <td>   605.4</td>\n",
       "</tr>\n",
       "<tr>\n",
       "  <th>Date:</th>             <td>Sat, 23 Sep 2023</td> <th>  Prob (F-statistic):</th> <td>8.13e-99</td>\n",
       "</tr>\n",
       "<tr>\n",
       "  <th>Time:</th>                 <td>23:55:34</td>     <th>  Log-Likelihood:    </th> <td> -383.34</td>\n",
       "</tr>\n",
       "<tr>\n",
       "  <th>No. Observations:</th>      <td>   200</td>      <th>  AIC:               </th> <td>   774.7</td>\n",
       "</tr>\n",
       "<tr>\n",
       "  <th>Df Residuals:</th>          <td>   196</td>      <th>  BIC:               </th> <td>   787.9</td>\n",
       "</tr>\n",
       "<tr>\n",
       "  <th>Df Model:</th>              <td>     3</td>      <th>                     </th>     <td> </td>   \n",
       "</tr>\n",
       "<tr>\n",
       "  <th>Covariance Type:</th>      <td>nonrobust</td>    <th>                     </th>     <td> </td>   \n",
       "</tr>\n",
       "</table>\n",
       "<table class=\"simpletable\">\n",
       "<tr>\n",
       "      <td></td>         <th>coef</th>     <th>std err</th>      <th>t</th>      <th>P>|t|</th>  <th>[0.025</th>    <th>0.975]</th>  \n",
       "</tr>\n",
       "<tr>\n",
       "  <th>const</th>     <td>    4.6251</td> <td>    0.308</td> <td>   15.041</td> <td> 0.000</td> <td>    4.019</td> <td>    5.232</td>\n",
       "</tr>\n",
       "<tr>\n",
       "  <th>TV</th>        <td>    0.0544</td> <td>    0.001</td> <td>   39.592</td> <td> 0.000</td> <td>    0.052</td> <td>    0.057</td>\n",
       "</tr>\n",
       "<tr>\n",
       "  <th>Radio</th>     <td>    0.1070</td> <td>    0.008</td> <td>   12.604</td> <td> 0.000</td> <td>    0.090</td> <td>    0.124</td>\n",
       "</tr>\n",
       "<tr>\n",
       "  <th>Newspaper</th> <td>    0.0003</td> <td>    0.006</td> <td>    0.058</td> <td> 0.954</td> <td>   -0.011</td> <td>    0.012</td>\n",
       "</tr>\n",
       "</table>\n",
       "<table class=\"simpletable\">\n",
       "<tr>\n",
       "  <th>Omnibus:</th>       <td>16.081</td> <th>  Durbin-Watson:     </th> <td>   2.251</td>\n",
       "</tr>\n",
       "<tr>\n",
       "  <th>Prob(Omnibus):</th> <td> 0.000</td> <th>  Jarque-Bera (JB):  </th> <td>  27.655</td>\n",
       "</tr>\n",
       "<tr>\n",
       "  <th>Skew:</th>          <td>-0.431</td> <th>  Prob(JB):          </th> <td>9.88e-07</td>\n",
       "</tr>\n",
       "<tr>\n",
       "  <th>Kurtosis:</th>      <td> 4.605</td> <th>  Cond. No.          </th> <td>    454.</td>\n",
       "</tr>\n",
       "</table><br/><br/>Notes:<br/>[1] Standard Errors assume that the covariance matrix of the errors is correctly specified."
      ],
      "text/latex": [
       "\\begin{center}\n",
       "\\begin{tabular}{lclc}\n",
       "\\toprule\n",
       "\\textbf{Dep. Variable:}    &      Sales       & \\textbf{  R-squared:         } &     0.903   \\\\\n",
       "\\textbf{Model:}            &       OLS        & \\textbf{  Adj. R-squared:    } &     0.901   \\\\\n",
       "\\textbf{Method:}           &  Least Squares   & \\textbf{  F-statistic:       } &     605.4   \\\\\n",
       "\\textbf{Date:}             & Sat, 23 Sep 2023 & \\textbf{  Prob (F-statistic):} &  8.13e-99   \\\\\n",
       "\\textbf{Time:}             &     23:55:34     & \\textbf{  Log-Likelihood:    } &   -383.34   \\\\\n",
       "\\textbf{No. Observations:} &         200      & \\textbf{  AIC:               } &     774.7   \\\\\n",
       "\\textbf{Df Residuals:}     &         196      & \\textbf{  BIC:               } &     787.9   \\\\\n",
       "\\textbf{Df Model:}         &           3      & \\textbf{                     } &             \\\\\n",
       "\\textbf{Covariance Type:}  &    nonrobust     & \\textbf{                     } &             \\\\\n",
       "\\bottomrule\n",
       "\\end{tabular}\n",
       "\\begin{tabular}{lcccccc}\n",
       "                   & \\textbf{coef} & \\textbf{std err} & \\textbf{t} & \\textbf{P$> |$t$|$} & \\textbf{[0.025} & \\textbf{0.975]}  \\\\\n",
       "\\midrule\n",
       "\\textbf{const}     &       4.6251  &        0.308     &    15.041  &         0.000        &        4.019    &        5.232     \\\\\n",
       "\\textbf{TV}        &       0.0544  &        0.001     &    39.592  &         0.000        &        0.052    &        0.057     \\\\\n",
       "\\textbf{Radio}     &       0.1070  &        0.008     &    12.604  &         0.000        &        0.090    &        0.124     \\\\\n",
       "\\textbf{Newspaper} &       0.0003  &        0.006     &     0.058  &         0.954        &       -0.011    &        0.012     \\\\\n",
       "\\bottomrule\n",
       "\\end{tabular}\n",
       "\\begin{tabular}{lclc}\n",
       "\\textbf{Omnibus:}       & 16.081 & \\textbf{  Durbin-Watson:     } &    2.251  \\\\\n",
       "\\textbf{Prob(Omnibus):} &  0.000 & \\textbf{  Jarque-Bera (JB):  } &   27.655  \\\\\n",
       "\\textbf{Skew:}          & -0.431 & \\textbf{  Prob(JB):          } & 9.88e-07  \\\\\n",
       "\\textbf{Kurtosis:}      &  4.605 & \\textbf{  Cond. No.          } &     454.  \\\\\n",
       "\\bottomrule\n",
       "\\end{tabular}\n",
       "%\\caption{OLS Regression Results}\n",
       "\\end{center}\n",
       "\n",
       "Notes: \\newline\n",
       " [1] Standard Errors assume that the covariance matrix of the errors is correctly specified."
      ],
      "text/plain": [
       "<class 'statsmodels.iolib.summary.Summary'>\n",
       "\"\"\"\n",
       "                            OLS Regression Results                            \n",
       "==============================================================================\n",
       "Dep. Variable:                  Sales   R-squared:                       0.903\n",
       "Model:                            OLS   Adj. R-squared:                  0.901\n",
       "Method:                 Least Squares   F-statistic:                     605.4\n",
       "Date:                Sat, 23 Sep 2023   Prob (F-statistic):           8.13e-99\n",
       "Time:                        23:55:34   Log-Likelihood:                -383.34\n",
       "No. Observations:                 200   AIC:                             774.7\n",
       "Df Residuals:                     196   BIC:                             787.9\n",
       "Df Model:                           3                                         \n",
       "Covariance Type:            nonrobust                                         \n",
       "==============================================================================\n",
       "                 coef    std err          t      P>|t|      [0.025      0.975]\n",
       "------------------------------------------------------------------------------\n",
       "const          4.6251      0.308     15.041      0.000       4.019       5.232\n",
       "TV             0.0544      0.001     39.592      0.000       0.052       0.057\n",
       "Radio          0.1070      0.008     12.604      0.000       0.090       0.124\n",
       "Newspaper      0.0003      0.006      0.058      0.954      -0.011       0.012\n",
       "==============================================================================\n",
       "Omnibus:                       16.081   Durbin-Watson:                   2.251\n",
       "Prob(Omnibus):                  0.000   Jarque-Bera (JB):               27.655\n",
       "Skew:                          -0.431   Prob(JB):                     9.88e-07\n",
       "Kurtosis:                       4.605   Cond. No.                         454.\n",
       "==============================================================================\n",
       "\n",
       "Notes:\n",
       "[1] Standard Errors assume that the covariance matrix of the errors is correctly specified.\n",
       "\"\"\""
      ]
     },
     "execution_count": 464,
     "metadata": {},
     "output_type": "execute_result"
    }
   ],
   "source": [
    "model.summary()"
   ]
  },
  {
   "cell_type": "markdown",
   "metadata": {},
   "source": [
    "### Explanation\n",
    "* We can see that the P value for Newspaper is very high meaning that investments in it doesnt really affect sales\n",
    "* The P values for Radio and TV are 0 meaning they contribute significantly to Sales. \n",
    "* The R squared value is 90% meaning we can rely on our results to select the feature for our model"
   ]
  },
  {
   "cell_type": "markdown",
   "metadata": {},
   "source": [
    "## Feature Selection"
   ]
  },
  {
   "cell_type": "markdown",
   "metadata": {},
   "source": [
    "* from looking at the curve we can see that TV sales starts high, curves for the larger part and the end is scattered "
   ]
  },
  {
   "cell_type": "code",
   "execution_count": 483,
   "metadata": {},
   "outputs": [
    {
     "data": {
      "image/png": "[encoded data removed]",
      "text/plain": [
       "<Figure size 576x360 with 1 Axes>"
      ]
     },
     "metadata": {
      "needs_background": "light"
     },
     "output_type": "display_data"
    }
   ],
   "source": [
    "plt.figure(figsize=(8,5))\n",
    "x_data, y_data = (df[\"TV\"].values, df[\"Sales\"].values)\n",
    "plt.plot(x_data, y_data, 'ro')\n",
    "#plt.plot(x,y) \n",
    "plt.ylabel('TV')\n",
    "plt.xlabel('Sales')\n",
    "plt.show()"
   ]
  },
  {
   "cell_type": "code",
   "execution_count": 484,
   "metadata": {},
   "outputs": [
    {
     "data": {
      "text/html": [
       "<div>\n",
       "<style scoped>\n",
       "    .dataframe tbody tr th:only-of-type {\n",
       "        vertical-align: middle;\n",
       "    }\n",
       "\n",
       "    .dataframe tbody tr th {\n",
       "        vertical-align: top;\n",
       "    }\n",
       "\n",
       "    .dataframe thead th {\n",
       "        text-align: right;\n",
       "    }\n",
       "</style>\n",
       "<table border=\"1\" class=\"dataframe\">\n",
       "  <thead>\n",
       "    <tr style=\"text-align: right;\">\n",
       "      <th></th>\n",
       "      <th>TV</th>\n",
       "      <th>Sales</th>\n",
       "    </tr>\n",
       "  </thead>\n",
       "  <tbody>\n",
       "    <tr>\n",
       "      <th>0</th>\n",
       "      <td>230.1</td>\n",
       "      <td>22.1</td>\n",
       "    </tr>\n",
       "    <tr>\n",
       "      <th>1</th>\n",
       "      <td>44.5</td>\n",
       "      <td>10.4</td>\n",
       "    </tr>\n",
       "    <tr>\n",
       "      <th>2</th>\n",
       "      <td>17.2</td>\n",
       "      <td>12.0</td>\n",
       "    </tr>\n",
       "    <tr>\n",
       "      <th>3</th>\n",
       "      <td>151.5</td>\n",
       "      <td>16.5</td>\n",
       "    </tr>\n",
       "    <tr>\n",
       "      <th>4</th>\n",
       "      <td>180.8</td>\n",
       "      <td>17.9</td>\n",
       "    </tr>\n",
       "    <tr>\n",
       "      <th>...</th>\n",
       "      <td>...</td>\n",
       "      <td>...</td>\n",
       "    </tr>\n",
       "    <tr>\n",
       "      <th>195</th>\n",
       "      <td>38.2</td>\n",
       "      <td>7.6</td>\n",
       "    </tr>\n",
       "    <tr>\n",
       "      <th>196</th>\n",
       "      <td>94.2</td>\n",
       "      <td>14.0</td>\n",
       "    </tr>\n",
       "    <tr>\n",
       "      <th>197</th>\n",
       "      <td>177.0</td>\n",
       "      <td>14.8</td>\n",
       "    </tr>\n",
       "    <tr>\n",
       "      <th>198</th>\n",
       "      <td>283.6</td>\n",
       "      <td>25.5</td>\n",
       "    </tr>\n",
       "    <tr>\n",
       "      <th>199</th>\n",
       "      <td>232.1</td>\n",
       "      <td>18.4</td>\n",
       "    </tr>\n",
       "  </tbody>\n",
       "</table>\n",
       "<p>200 rows × 2 columns</p>\n",
       "</div>"
      ],
      "text/plain": [
       "        TV  Sales\n",
       "0    230.1   22.1\n",
       "1     44.5   10.4\n",
       "2     17.2   12.0\n",
       "3    151.5   16.5\n",
       "4    180.8   17.9\n",
       "..     ...    ...\n",
       "195   38.2    7.6\n",
       "196   94.2   14.0\n",
       "197  177.0   14.8\n",
       "198  283.6   25.5\n",
       "199  232.1   18.4\n",
       "\n",
       "[200 rows x 2 columns]"
      ]
     },
     "execution_count": 484,
     "metadata": {},
     "output_type": "execute_result"
    }
   ],
   "source": [
    "df_new = pd.DataFrame(df)\n",
    "df_new[['TV', 'Sales']]"
   ]
  },
  {
   "cell_type": "markdown",
   "metadata": {},
   "source": [
    "## Train Test Split"
   ]
  },
  {
   "cell_type": "code",
   "execution_count": 485,
   "metadata": {},
   "outputs": [],
   "source": [
    "from sklearn.model_selection import train_test_split\n",
    "x_train, x_test, y_train, y_test = train_test_split(df_new['TV'], df_new['Sales'])"
   ]
  },
  {
   "cell_type": "code",
   "execution_count": 486,
   "metadata": {},
   "outputs": [
    {
     "data": {
      "text/plain": [
       "108     13.1\n",
       "121     18.8\n",
       "86      76.3\n",
       "135     48.3\n",
       "4      180.8\n",
       "       ...  \n",
       "117     76.4\n",
       "95     163.3\n",
       "114     78.2\n",
       "168    215.4\n",
       "19     147.3\n",
       "Name: TV, Length: 150, dtype: float64"
      ]
     },
     "execution_count": 486,
     "metadata": {},
     "output_type": "execute_result"
    }
   ],
   "source": [
    "x_train"
   ]
  },
  {
   "cell_type": "code",
   "execution_count": 487,
   "metadata": {},
   "outputs": [
    {
     "data": {
      "text/html": [
       "<div>\n",
       "<style scoped>\n",
       "    .dataframe tbody tr th:only-of-type {\n",
       "        vertical-align: middle;\n",
       "    }\n",
       "\n",
       "    .dataframe tbody tr th {\n",
       "        vertical-align: top;\n",
       "    }\n",
       "\n",
       "    .dataframe thead th {\n",
       "        text-align: right;\n",
       "    }\n",
       "</style>\n",
       "<table border=\"1\" class=\"dataframe\">\n",
       "  <thead>\n",
       "    <tr style=\"text-align: right;\">\n",
       "      <th></th>\n",
       "      <th>TV</th>\n",
       "    </tr>\n",
       "  </thead>\n",
       "  <tbody>\n",
       "    <tr>\n",
       "      <th>117</th>\n",
       "      <td>76.4</td>\n",
       "    </tr>\n",
       "    <tr>\n",
       "      <th>95</th>\n",
       "      <td>163.3</td>\n",
       "    </tr>\n",
       "    <tr>\n",
       "      <th>114</th>\n",
       "      <td>78.2</td>\n",
       "    </tr>\n",
       "    <tr>\n",
       "      <th>168</th>\n",
       "      <td>215.4</td>\n",
       "    </tr>\n",
       "    <tr>\n",
       "      <th>19</th>\n",
       "      <td>147.3</td>\n",
       "    </tr>\n",
       "  </tbody>\n",
       "</table>\n",
       "</div>"
      ],
      "text/plain": [
       "        TV\n",
       "117   76.4\n",
       "95   163.3\n",
       "114   78.2\n",
       "168  215.4\n",
       "19   147.3"
      ]
     },
     "execution_count": 487,
     "metadata": {},
     "output_type": "execute_result"
    }
   ],
   "source": [
    "x_train_df = pd.DataFrame(x_train)\n",
    "x_train_df.tail()"
   ]
  },
  {
   "cell_type": "code",
   "execution_count": 488,
   "metadata": {},
   "outputs": [],
   "source": [
    "x_train_df, x_test_df = pd.DataFrame(x_train), pd.DataFrame(x_test)"
   ]
  },
  {
   "cell_type": "markdown",
   "metadata": {},
   "source": [
    "## Model Creation"
   ]
  },
  {
   "cell_type": "code",
   "execution_count": 489,
   "metadata": {},
   "outputs": [],
   "source": [
    "from sklearn.preprocessing import PolynomialFeatures\n",
    "\n",
    "# we make it below to the power of 2 , we can increase the power to 3 and so on\n",
    "poly = PolynomialFeatures(degree = 2)"
   ]
  },
  {
   "cell_type": "code",
   "execution_count": 490,
   "metadata": {},
   "outputs": [],
   "source": [
    "x_train_poly, x_test_poly = poly.fit_transform(x_train_df), poly.fit_transform(x_test_df)"
   ]
  },
  {
   "cell_type": "code",
   "execution_count": 491,
   "metadata": {},
   "outputs": [
    {
     "data": {
      "text/plain": [
       "array([[1.000000e+00, 1.310000e+01, 1.716100e+02],\n",
       "       [1.000000e+00, 1.880000e+01, 3.534400e+02],\n",
       "       [1.000000e+00, 7.630000e+01, 5.821690e+03],\n",
       "       [1.000000e+00, 4.830000e+01, 2.332890e+03],\n",
       "       [1.000000e+00, 1.808000e+02, 3.268864e+04],\n",
       "       [1.000000e+00, 2.656000e+02, 7.054336e+04],\n",
       "       [1.000000e+00, 4.450000e+01, 1.980250e+03],\n",
       "       [1.000000e+00, 2.205000e+02, 4.862025e+04],\n",
       "       [1.000000e+00, 1.960000e+01, 3.841600e+02],\n",
       "       [1.000000e+00, 1.098000e+02, 1.205604e+04],\n",
       "       [1.000000e+00, 1.884000e+02, 3.549456e+04],\n",
       "       [1.000000e+00, 2.147000e+02, 4.609609e+04],\n",
       "       [1.000000e+00, 2.807000e+02, 7.879249e+04],\n",
       "       [1.000000e+00, 1.790000e+01, 3.204100e+02],\n",
       "       [1.000000e+00, 1.352000e+02, 1.827904e+04],\n",
       "       [1.000000e+00, 2.929000e+02, 8.579041e+04],\n",
       "       [1.000000e+00, 1.004000e+02, 1.008016e+04],\n",
       "       [1.000000e+00, 3.690000e+01, 1.361610e+03],\n",
       "       [1.000000e+00, 6.230000e+01, 3.881290e+03],\n",
       "       [1.000000e+00, 2.382000e+02, 5.673924e+04],\n",
       "       [1.000000e+00, 2.860000e+02, 8.179600e+04],\n",
       "       [1.000000e+00, 1.849000e+02, 3.418801e+04],\n",
       "       [1.000000e+00, 7.640000e+01, 5.836960e+03],\n",
       "       [1.000000e+00, 6.690000e+01, 4.475610e+03],\n",
       "       [1.000000e+00, 7.550000e+01, 5.700250e+03],\n",
       "       [1.000000e+00, 1.720000e+01, 2.958400e+02],\n",
       "       [1.000000e+00, 7.060000e+01, 4.984360e+03],\n",
       "       [1.000000e+00, 9.420000e+01, 8.873640e+03],\n",
       "       [1.000000e+00, 1.635000e+02, 2.673225e+04],\n",
       "       [1.000000e+00, 1.205000e+02, 1.452025e+04],\n",
       "       [1.000000e+00, 1.940000e+01, 3.763600e+02],\n",
       "       [1.000000e+00, 1.911000e+02, 3.651921e+04],\n",
       "       [1.000000e+00, 8.020000e+01, 6.432040e+03],\n",
       "       [1.000000e+00, 1.515000e+02, 2.295225e+04],\n",
       "       [1.000000e+00, 2.554000e+02, 6.522916e+04],\n",
       "       [1.000000e+00, 1.027000e+02, 1.054729e+04],\n",
       "       [1.000000e+00, 1.849000e+02, 3.418801e+04],\n",
       "       [1.000000e+00, 1.566000e+02, 2.452356e+04],\n",
       "       [1.000000e+00, 1.725000e+02, 2.975625e+04],\n",
       "       [1.000000e+00, 1.343000e+02, 1.803649e+04],\n",
       "       [1.000000e+00, 2.025000e+02, 4.100625e+04],\n",
       "       [1.000000e+00, 2.484000e+02, 6.170256e+04],\n",
       "       [1.000000e+00, 1.702000e+02, 2.896804e+04],\n",
       "       [1.000000e+00, 2.380000e+01, 5.664400e+02],\n",
       "       [1.000000e+00, 2.750000e+01, 7.562500e+02],\n",
       "       [1.000000e+00, 2.627000e+02, 6.901129e+04],\n",
       "       [1.000000e+00, 5.400000e+00, 2.916000e+01],\n",
       "       [1.000000e+00, 4.300000e+01, 1.849000e+03],\n",
       "       [1.000000e+00, 7.000000e-01, 4.900000e-01],\n",
       "       [1.000000e+00, 8.570000e+01, 7.344490e+03],\n",
       "       [1.000000e+00, 1.379000e+02, 1.901641e+04],\n",
       "       [1.000000e+00, 1.074000e+02, 1.153476e+04],\n",
       "       [1.000000e+00, 1.870000e+01, 3.496900e+02],\n",
       "       [1.000000e+00, 1.231000e+02, 1.515361e+04],\n",
       "       [1.000000e+00, 1.210000e+02, 1.464100e+04],\n",
       "       [1.000000e+00, 3.820000e+01, 1.459240e+03],\n",
       "       [1.000000e+00, 2.107000e+02, 4.439449e+04],\n",
       "       [1.000000e+00, 7.800000e+00, 6.084000e+01],\n",
       "       [1.000000e+00, 1.413000e+02, 1.996569e+04],\n",
       "       [1.000000e+00, 1.645000e+02, 2.706025e+04],\n",
       "       [1.000000e+00, 2.164000e+02, 4.682896e+04],\n",
       "       [1.000000e+00, 2.258000e+02, 5.098564e+04],\n",
       "       [1.000000e+00, 2.203000e+02, 4.853209e+04],\n",
       "       [1.000000e+00, 9.390000e+01, 8.817210e+03],\n",
       "       [1.000000e+00, 1.751000e+02, 3.066001e+04],\n",
       "       [1.000000e+00, 6.780000e+01, 4.596840e+03],\n",
       "       [1.000000e+00, 2.398000e+02, 5.750404e+04],\n",
       "       [1.000000e+00, 8.830000e+01, 7.796890e+03],\n",
       "       [1.000000e+00, 1.257000e+02, 1.580049e+04],\n",
       "       [1.000000e+00, 2.432000e+02, 5.914624e+04],\n",
       "       [1.000000e+00, 1.932000e+02, 3.732624e+04],\n",
       "       [1.000000e+00, 2.283000e+02, 5.212089e+04],\n",
       "       [1.000000e+00, 1.954000e+02, 3.818116e+04],\n",
       "       [1.000000e+00, 2.134000e+02, 4.553956e+04],\n",
       "       [1.000000e+00, 2.843000e+02, 8.082649e+04],\n",
       "       [1.000000e+00, 3.950000e+01, 1.560250e+03],\n",
       "       [1.000000e+00, 1.976000e+02, 3.904576e+04],\n",
       "       [1.000000e+00, 9.620000e+01, 9.254440e+03],\n",
       "       [1.000000e+00, 2.345000e+02, 5.499025e+04],\n",
       "       [1.000000e+00, 2.737000e+02, 7.491169e+04],\n",
       "       [1.000000e+00, 1.989000e+02, 3.956121e+04],\n",
       "       [1.000000e+00, 9.570000e+01, 9.158490e+03],\n",
       "       [1.000000e+00, 2.802000e+02, 7.851204e+04],\n",
       "       [1.000000e+00, 4.470000e+01, 1.998090e+03],\n",
       "       [1.000000e+00, 1.826000e+02, 3.334276e+04],\n",
       "       [1.000000e+00, 1.770000e+02, 3.132900e+04],\n",
       "       [1.000000e+00, 7.300000e+00, 5.329000e+01],\n",
       "       [1.000000e+00, 1.991000e+02, 3.964081e+04],\n",
       "       [1.000000e+00, 5.960000e+01, 3.552160e+03],\n",
       "       [1.000000e+00, 2.897000e+02, 8.392609e+04],\n",
       "       [1.000000e+00, 5.000000e+01, 2.500000e+03],\n",
       "       [1.000000e+00, 4.310000e+01, 1.857610e+03],\n",
       "       [1.000000e+00, 2.198000e+02, 4.831204e+04],\n",
       "       [1.000000e+00, 8.720000e+01, 7.603840e+03],\n",
       "       [1.000000e+00, 2.401000e+02, 5.764801e+04],\n",
       "       [1.000000e+00, 2.374000e+02, 5.635876e+04],\n",
       "       [1.000000e+00, 2.907000e+02, 8.450649e+04],\n",
       "       [1.000000e+00, 1.690000e+01, 2.856100e+02],\n",
       "       [1.000000e+00, 1.998000e+02, 3.992004e+04],\n",
       "       [1.000000e+00, 2.374000e+02, 5.635876e+04],\n",
       "       [1.000000e+00, 2.401000e+02, 5.764801e+04],\n",
       "       [1.000000e+00, 1.429000e+02, 2.042041e+04],\n",
       "       [1.000000e+00, 7.530000e+01, 5.670090e+03],\n",
       "       [1.000000e+00, 1.656000e+02, 2.742336e+04],\n",
       "       [1.000000e+00, 1.107000e+02, 1.225449e+04],\n",
       "       [1.000000e+00, 2.814000e+02, 7.918596e+04],\n",
       "       [1.000000e+00, 1.937000e+02, 3.751969e+04],\n",
       "       [1.000000e+00, 2.769000e+02, 7.667361e+04],\n",
       "       [1.000000e+00, 2.613000e+02, 6.827769e+04],\n",
       "       [1.000000e+00, 9.040000e+01, 8.172160e+03],\n",
       "       [1.000000e+00, 6.840000e+01, 4.678560e+03],\n",
       "       [1.000000e+00, 2.936000e+02, 8.620096e+04],\n",
       "       [1.000000e+00, 7.510000e+01, 5.640010e+03],\n",
       "       [1.000000e+00, 5.350000e+01, 2.862250e+03],\n",
       "       [1.000000e+00, 1.757000e+02, 3.087049e+04],\n",
       "       [1.000000e+00, 1.976000e+02, 3.904576e+04],\n",
       "       [1.000000e+00, 1.720000e+01, 2.958400e+02],\n",
       "       [1.000000e+00, 6.610000e+01, 4.369210e+03],\n",
       "       [1.000000e+00, 2.669000e+02, 7.123561e+04],\n",
       "       [1.000000e+00, 2.876000e+02, 8.271376e+04],\n",
       "       [1.000000e+00, 2.321000e+02, 5.387041e+04],\n",
       "       [1.000000e+00, 3.800000e+01, 1.444000e+03],\n",
       "       [1.000000e+00, 1.403000e+02, 1.968409e+04],\n",
       "       [1.000000e+00, 1.160000e+02, 1.345600e+04],\n",
       "       [1.000000e+00, 2.509000e+02, 6.295081e+04],\n",
       "       [1.000000e+00, 1.202000e+02, 1.444804e+04],\n",
       "       [1.000000e+00, 5.750000e+01, 3.306250e+03],\n",
       "       [1.000000e+00, 1.317000e+02, 1.734489e+04],\n",
       "       [1.000000e+00, 2.860000e+01, 8.179600e+02],\n",
       "       [1.000000e+00, 1.320000e+01, 1.742400e+02],\n",
       "       [1.000000e+00, 1.497000e+02, 2.241009e+04],\n",
       "       [1.000000e+00, 1.393000e+02, 1.940449e+04],\n",
       "       [1.000000e+00, 2.538000e+02, 6.441444e+04],\n",
       "       [1.000000e+00, 1.498000e+02, 2.244004e+04],\n",
       "       [1.000000e+00, 1.878000e+02, 3.526884e+04],\n",
       "       [1.000000e+00, 2.399000e+02, 5.755201e+04],\n",
       "       [1.000000e+00, 1.770000e+02, 3.132900e+04],\n",
       "       [1.000000e+00, 1.311000e+02, 1.718721e+04],\n",
       "       [1.000000e+00, 1.046000e+02, 1.094116e+04],\n",
       "       [1.000000e+00, 1.294000e+02, 1.674436e+04],\n",
       "       [1.000000e+00, 8.970000e+01, 8.046090e+03],\n",
       "       [1.000000e+00, 1.713000e+02, 2.934369e+04],\n",
       "       [1.000000e+00, 2.224000e+02, 4.946176e+04],\n",
       "       [1.000000e+00, 1.998000e+02, 3.992004e+04],\n",
       "       [1.000000e+00, 2.500000e+01, 6.250000e+02],\n",
       "       [1.000000e+00, 7.640000e+01, 5.836960e+03],\n",
       "       [1.000000e+00, 1.633000e+02, 2.666689e+04],\n",
       "       [1.000000e+00, 7.820000e+01, 6.115240e+03],\n",
       "       [1.000000e+00, 2.154000e+02, 4.639716e+04],\n",
       "       [1.000000e+00, 1.473000e+02, 2.169729e+04]])"
      ]
     },
     "execution_count": 491,
     "metadata": {},
     "output_type": "execute_result"
    }
   ],
   "source": [
    "x_train_poly"
   ]
  },
  {
   "cell_type": "code",
   "execution_count": 492,
   "metadata": {},
   "outputs": [
    {
     "data": {
      "text/plain": [
       "108     13.1\n",
       "121     18.8\n",
       "86      76.3\n",
       "135     48.3\n",
       "4      180.8\n",
       "       ...  \n",
       "117     76.4\n",
       "95     163.3\n",
       "114     78.2\n",
       "168    215.4\n",
       "19     147.3\n",
       "Name: TV, Length: 150, dtype: float64"
      ]
     },
     "execution_count": 492,
     "metadata": {},
     "output_type": "execute_result"
    }
   ],
   "source": [
    "x_train"
   ]
  },
  {
   "cell_type": "markdown",
   "metadata": {},
   "source": [
    "## Fit the Model"
   ]
  },
  {
   "cell_type": "code",
   "execution_count": 493,
   "metadata": {},
   "outputs": [],
   "source": [
    "# we will do for both train and test\n",
    "x_train_poly, x_test_poly = poly.fit_transform(x_train_df), poly.fit_transform(x_test_df)"
   ]
  },
  {
   "cell_type": "code",
   "execution_count": 494,
   "metadata": {},
   "outputs": [],
   "source": [
    "# to create the model, we want to represent the variable with degree 2 as simpl say z\n",
    "from sklearn import linear_model\n",
    "model = linear_model.LinearRegression()\n",
    "model = model.fit(x_train_poly, y_train)"
   ]
  },
  {
   "cell_type": "code",
   "execution_count": 495,
   "metadata": {},
   "outputs": [
    {
     "data": {
      "text/plain": [
       "array([ 0.00000000e+00,  7.88096928e-02, -8.13367442e-05])"
      ]
     },
     "execution_count": 495,
     "metadata": {},
     "output_type": "execute_result"
    }
   ],
   "source": [
    "# to make the equatiom\n",
    "model.coef_"
   ]
  },
  {
   "cell_type": "code",
   "execution_count": 496,
   "metadata": {},
   "outputs": [
    {
     "data": {
      "text/plain": [
       "5.903716703511787"
      ]
     },
     "execution_count": 496,
     "metadata": {},
     "output_type": "execute_result"
    }
   ],
   "source": [
    "model.intercept_"
   ]
  },
  {
   "cell_type": "code",
   "execution_count": 497,
   "metadata": {},
   "outputs": [],
   "source": [
    "# put them in variable / place holder\n",
    "coefficient = model.coef_\n",
    "\n",
    "intercept = model.intercept_"
   ]
  },
  {
   "cell_type": "code",
   "execution_count": 498,
   "metadata": {},
   "outputs": [
    {
     "data": {
      "image/png": "[encoded data removed]",
      "text/plain": [
       "<Figure size 432x288 with 1 Axes>"
      ]
     },
     "metadata": {
      "needs_background": "light"
     },
     "output_type": "display_data"
    }
   ],
   "source": [
    "import matplotlib.pyplot as plt\n",
    "import numpy as np\n",
    "\n",
    "plt.scatter(df_new['TV'], df_new['Sales'], color='b')\n",
    "plt.show()"
   ]
  },
  {
   "cell_type": "code",
   "execution_count": 499,
   "metadata": {},
   "outputs": [
    {
     "data": {
      "image/png": "[encoded data removed]",
      "text/plain": [
       "<Figure size 432x288 with 1 Axes>"
      ]
     },
     "metadata": {
      "needs_background": "light"
     },
     "output_type": "display_data"
    }
   ],
   "source": [
    "# I started with the end value from 20 but looking at the x axis, increasing it to 300 gave a longer red line\n",
    "x_axis = np.arange(1, 300, 0.1)\n",
    "response = intercept + coefficient[1]*x_axis + coefficient[2]*x_axis**2\n",
    "\n",
    "plt.scatter(df_new['TV'], df_new['Sales'], color='b')\n",
    "plt.plot(x_axis, response, color='r')\n",
    "plt.show()"
   ]
  },
  {
   "cell_type": "markdown",
   "metadata": {},
   "source": [
    "## Model Evaluation"
   ]
  },
  {
   "cell_type": "code",
   "execution_count": 500,
   "metadata": {},
   "outputs": [
    {
     "data": {
      "text/plain": [
       "0.7870361727553429"
      ]
     },
     "execution_count": 500,
     "metadata": {},
     "output_type": "execute_result"
    }
   ],
   "source": [
    "from sklearn.metrics import r2_score\n",
    "\n",
    "prediction = model.predict(x_test_poly)\n",
    "r2_score(prediction, y_test)"
   ]
  },
  {
   "cell_type": "markdown",
   "metadata": {},
   "source": [
    "Results\n",
    "* The non linear regression with a second degree results of 79% is good enough for prediction"
   ]
  },
  {
   "cell_type": "markdown",
   "metadata": {},
   "source": [
    "### Trying with a higher degree non linear regression\n"
   ]
  },
  {
   "cell_type": "code",
   "execution_count": 407,
   "metadata": {},
   "outputs": [],
   "source": [
    "poly = PolynomialFeatures(degree = 3)"
   ]
  },
  {
   "cell_type": "code",
   "execution_count": 408,
   "metadata": {},
   "outputs": [],
   "source": [
    "x_train_poly, x_test_poly = poly.fit_transform(x_train_df), poly.fit_transform(x_test_df)"
   ]
  },
  {
   "cell_type": "code",
   "execution_count": 409,
   "metadata": {},
   "outputs": [
    {
     "data": {
      "text/plain": [
       "array([[1.00000000e+00, 1.02700000e+02, 1.05472900e+04, 1.08320668e+06],\n",
       "       [1.00000000e+00, 1.64500000e+02, 2.70602500e+04, 4.45141112e+06],\n",
       "       [1.00000000e+00, 1.87000000e+01, 3.49690000e+02, 6.53920300e+03],\n",
       "       [1.00000000e+00, 1.35200000e+02, 1.82790400e+04, 2.47132621e+06],\n",
       "       [1.00000000e+00, 5.00000000e+01, 2.50000000e+03, 1.25000000e+05],\n",
       "       [1.00000000e+00, 1.47300000e+02, 2.16972900e+04, 3.19601082e+06],\n",
       "       [1.00000000e+00, 1.25700000e+02, 1.58004900e+04, 1.98612159e+06],\n",
       "       [1.00000000e+00, 1.91100000e+02, 3.65192100e+04, 6.97882103e+06],\n",
       "       [1.00000000e+00, 1.40300000e+02, 1.96840900e+04, 2.76167783e+06],\n",
       "       [1.00000000e+00, 1.31700000e+02, 1.73448900e+04, 2.28432201e+06],\n",
       "       [1.00000000e+00, 1.32000000e+01, 1.74240000e+02, 2.29996800e+03],\n",
       "       [1.00000000e+00, 1.99800000e+02, 3.99200400e+04, 7.97602399e+06],\n",
       "       [1.00000000e+00, 8.60000000e+00, 7.39600000e+01, 6.36056000e+02],\n",
       "       [1.00000000e+00, 1.00400000e+02, 1.00801600e+04, 1.01204806e+06],\n",
       "       [1.00000000e+00, 1.93700000e+02, 3.75196900e+04, 7.26756395e+06],\n",
       "       [1.00000000e+00, 2.56000000e+01, 6.55360000e+02, 1.67772160e+04],\n",
       "       [1.00000000e+00, 1.82600000e+02, 3.33427600e+04, 6.08838798e+06],\n",
       "       [1.00000000e+00, 1.34300000e+02, 1.80364900e+04, 2.42230061e+06],\n",
       "       [1.00000000e+00, 2.41700000e+02, 5.84188900e+04, 1.41198457e+07],\n",
       "       [1.00000000e+00, 6.23000000e+01, 3.88129000e+03, 2.41804367e+05],\n",
       "       [1.00000000e+00, 2.06900000e+02, 4.28076100e+04, 8.85689451e+06],\n",
       "       [1.00000000e+00, 7.82000000e+01, 6.11524000e+03, 4.78211768e+05],\n",
       "       [1.00000000e+00, 9.75000000e+01, 9.50625000e+03, 9.26859375e+05],\n",
       "       [1.00000000e+00, 1.63300000e+02, 2.66668900e+04, 4.35470314e+06],\n",
       "       [1.00000000e+00, 1.29400000e+02, 1.67443600e+04, 2.16672018e+06],\n",
       "       [1.00000000e+00, 1.72000000e+01, 2.95840000e+02, 5.08844800e+03],\n",
       "       [1.00000000e+00, 2.93600000e+02, 8.62009600e+04, 2.53086019e+07],\n",
       "       [1.00000000e+00, 1.16000000e+02, 1.34560000e+04, 1.56089600e+06],\n",
       "       [1.00000000e+00, 2.20300000e+02, 4.85320900e+04, 1.06916194e+07],\n",
       "       [1.00000000e+00, 7.55000000e+01, 5.70025000e+03, 4.30368875e+05],\n",
       "       [1.00000000e+00, 2.50900000e+02, 6.29508100e+04, 1.57943582e+07],\n",
       "       [1.00000000e+00, 6.92000000e+01, 4.78864000e+03, 3.31373888e+05],\n",
       "       [1.00000000e+00, 1.99800000e+02, 3.99200400e+04, 7.97602399e+06],\n",
       "       [1.00000000e+00, 1.96000000e+01, 3.84160000e+02, 7.52953600e+03],\n",
       "       [1.00000000e+00, 2.28300000e+02, 5.21208900e+04, 1.18991992e+07],\n",
       "       [1.00000000e+00, 8.02000000e+01, 6.43204000e+03, 5.15849608e+05],\n",
       "       [1.00000000e+00, 2.30100000e+02, 5.29460100e+04, 1.21828769e+07],\n",
       "       [1.00000000e+00, 1.66800000e+02, 2.78222400e+04, 4.64074963e+06],\n",
       "       [1.00000000e+00, 5.35000000e+01, 2.86225000e+03, 1.53130375e+05],\n",
       "       [1.00000000e+00, 4.47000000e+01, 1.99809000e+03, 8.93146230e+04],\n",
       "       [1.00000000e+00, 2.16800000e+02, 4.70022400e+04, 1.01900856e+07],\n",
       "       [1.00000000e+00, 4.10000000e+00, 1.68100000e+01, 6.89210000e+01],\n",
       "       [1.00000000e+00, 1.37900000e+02, 1.90164100e+04, 2.62236294e+06],\n",
       "       [1.00000000e+00, 2.17700000e+02, 4.73932900e+04, 1.03175192e+07],\n",
       "       [1.00000000e+00, 2.16400000e+02, 4.68289600e+04, 1.01337869e+07],\n",
       "       [1.00000000e+00, 2.15400000e+02, 4.63971600e+04, 9.99394826e+06],\n",
       "       [1.00000000e+00, 8.97000000e+01, 8.04609000e+03, 7.21734273e+05],\n",
       "       [1.00000000e+00, 7.30000000e+00, 5.32900000e+01, 3.89017000e+02],\n",
       "       [1.00000000e+00, 2.38200000e+02, 5.67392400e+04, 1.35152870e+07],\n",
       "       [1.00000000e+00, 1.68400000e+02, 2.83585600e+04, 4.77558150e+06],\n",
       "       [1.00000000e+00, 2.19800000e+02, 4.83120400e+04, 1.06189864e+07],\n",
       "       [1.00000000e+00, 2.34500000e+02, 5.49902500e+04, 1.28952136e+07],\n",
       "       [1.00000000e+00, 7.34000000e+01, 5.38756000e+03, 3.95446904e+05],\n",
       "       [1.00000000e+00, 1.20500000e+02, 1.45202500e+04, 1.74969012e+06],\n",
       "       [1.00000000e+00, 5.62000000e+01, 3.15844000e+03, 1.77504328e+05],\n",
       "       [1.00000000e+00, 2.86000000e+02, 8.17960000e+04, 2.33936560e+07],\n",
       "       [1.00000000e+00, 2.48400000e+02, 6.17025600e+04, 1.53269159e+07],\n",
       "       [1.00000000e+00, 1.39500000e+02, 1.94602500e+04, 2.71470488e+06],\n",
       "       [1.00000000e+00, 1.36200000e+02, 1.85504400e+04, 2.52656993e+06],\n",
       "       [1.00000000e+00, 2.18500000e+02, 4.77422500e+04, 1.04316816e+07],\n",
       "       [1.00000000e+00, 1.99100000e+02, 3.96408100e+04, 7.89248527e+06],\n",
       "       [1.00000000e+00, 2.51000000e+01, 6.30010000e+02, 1.58132510e+04],\n",
       "       [1.00000000e+00, 3.69000000e+01, 1.36161000e+03, 5.02434090e+04],\n",
       "       [1.00000000e+00, 1.94000000e+01, 3.76360000e+02, 7.30138400e+03],\n",
       "       [1.00000000e+00, 1.95400000e+02, 3.81811600e+04, 7.46059866e+06],\n",
       "       [1.00000000e+00, 5.40000000e+00, 2.91600000e+01, 1.57464000e+02],\n",
       "       [1.00000000e+00, 2.39300000e+02, 5.72644900e+04, 1.37033925e+07],\n",
       "       [1.00000000e+00, 1.65600000e+02, 2.74233600e+04, 4.54130842e+06],\n",
       "       [1.00000000e+00, 2.48800000e+02, 6.19014400e+04, 1.54010783e+07],\n",
       "       [1.00000000e+00, 5.75000000e+01, 3.30625000e+03, 1.90109375e+05],\n",
       "       [1.00000000e+00, 6.84000000e+01, 4.67856000e+03, 3.20013504e+05],\n",
       "       [1.00000000e+00, 1.72500000e+02, 2.97562500e+04, 5.13295312e+06],\n",
       "       [1.00000000e+00, 8.70000000e+00, 7.56900000e+01, 6.58503000e+02],\n",
       "       [1.00000000e+00, 7.53000000e+01, 5.67009000e+03, 4.26957777e+05],\n",
       "       [1.00000000e+00, 2.13400000e+02, 4.55395600e+04, 9.71814210e+06],\n",
       "       [1.00000000e+00, 2.87600000e+02, 8.27137600e+04, 2.37884774e+07],\n",
       "       [1.00000000e+00, 1.88000000e+01, 3.53440000e+02, 6.64467200e+03],\n",
       "       [1.00000000e+00, 2.62700000e+02, 6.90112900e+04, 1.81292659e+07],\n",
       "       [1.00000000e+00, 9.04000000e+01, 8.17216000e+03, 7.38763264e+05],\n",
       "       [1.00000000e+00, 2.80200000e+02, 7.85120400e+04, 2.19990736e+07],\n",
       "       [1.00000000e+00, 1.10700000e+02, 1.22544900e+04, 1.35657204e+06],\n",
       "       [1.00000000e+00, 9.39000000e+01, 8.81721000e+03, 8.27936019e+05],\n",
       "       [1.00000000e+00, 2.09600000e+02, 4.39321600e+04, 9.20818074e+06],\n",
       "       [1.00000000e+00, 7.63000000e+01, 5.82169000e+03, 4.44194947e+05],\n",
       "       [1.00000000e+00, 2.50000000e+01, 6.25000000e+02, 1.56250000e+04],\n",
       "       [1.00000000e+00, 2.13500000e+02, 4.55822500e+04, 9.73181038e+06],\n",
       "       [1.00000000e+00, 2.14700000e+02, 4.60960900e+04, 9.89683052e+06],\n",
       "       [1.00000000e+00, 1.39200000e+02, 1.93766400e+04, 2.69722829e+06],\n",
       "       [1.00000000e+00, 2.65200000e+02, 7.03310400e+04, 1.86517918e+07],\n",
       "       [1.00000000e+00, 2.27200000e+02, 5.16198400e+04, 1.17280276e+07],\n",
       "       [1.00000000e+00, 2.20500000e+02, 4.86202500e+04, 1.07207651e+07],\n",
       "       [1.00000000e+00, 1.42900000e+02, 2.04204100e+04, 2.91807659e+06],\n",
       "       [1.00000000e+00, 2.76900000e+02, 7.66736100e+04, 2.12309226e+07],\n",
       "       [1.00000000e+00, 1.87800000e+02, 3.52688400e+04, 6.62348815e+06],\n",
       "       [1.00000000e+00, 2.92900000e+02, 8.57904100e+04, 2.51280111e+07],\n",
       "       [1.00000000e+00, 9.62000000e+01, 9.25444000e+03, 8.90277128e+05],\n",
       "       [1.00000000e+00, 9.57000000e+01, 9.15849000e+03, 8.76467493e+05],\n",
       "       [1.00000000e+00, 2.81400000e+02, 7.91859600e+04, 2.22829291e+07],\n",
       "       [1.00000000e+00, 1.77000000e+02, 3.13290000e+04, 5.54523300e+06],\n",
       "       [1.00000000e+00, 2.39900000e+02, 5.75520100e+04, 1.38067272e+07],\n",
       "       [1.00000000e+00, 1.49700000e+02, 2.24100900e+04, 3.35479047e+06],\n",
       "       [1.00000000e+00, 1.88400000e+02, 3.54945600e+04, 6.68717510e+06],\n",
       "       [1.00000000e+00, 1.75700000e+02, 3.08704900e+04, 5.42394509e+06],\n",
       "       [1.00000000e+00, 1.17000000e+01, 1.36890000e+02, 1.60161300e+03],\n",
       "       [1.00000000e+00, 7.64000000e+01, 5.83696000e+03, 4.45943744e+05],\n",
       "       [1.00000000e+00, 2.05000000e+02, 4.20250000e+04, 8.61512500e+06],\n",
       "       [1.00000000e+00, 3.82000000e+01, 1.45924000e+03, 5.57429680e+04],\n",
       "       [1.00000000e+00, 7.64000000e+01, 5.83696000e+03, 4.45943744e+05],\n",
       "       [1.00000000e+00, 9.42000000e+01, 8.87364000e+03, 8.35896888e+05],\n",
       "       [1.00000000e+00, 2.40100000e+02, 5.76480100e+04, 1.38412872e+07],\n",
       "       [1.00000000e+00, 1.17200000e+02, 1.37358400e+04, 1.60984045e+06],\n",
       "       [1.00000000e+00, 2.37400000e+02, 5.63587600e+04, 1.33795696e+07],\n",
       "       [1.00000000e+00, 7.00000000e-01, 4.90000000e-01, 3.43000000e-01],\n",
       "       [1.00000000e+00, 2.76700000e+02, 7.65628900e+04, 2.11849517e+07],\n",
       "       [1.00000000e+00, 7.51000000e+01, 5.64001000e+03, 4.23564751e+05],\n",
       "       [1.00000000e+00, 2.22400000e+02, 4.94617600e+04, 1.10002954e+07],\n",
       "       [1.00000000e+00, 1.97600000e+02, 3.90457600e+04, 7.71544218e+06],\n",
       "       [1.00000000e+00, 6.69000000e+01, 4.47561000e+03, 2.99418309e+05],\n",
       "       [1.00000000e+00, 1.12900000e+02, 1.27464100e+04, 1.43906969e+06],\n",
       "       [1.00000000e+00, 1.70200000e+02, 2.89680400e+04, 4.93036041e+06],\n",
       "       [1.00000000e+00, 5.96000000e+01, 3.55216000e+03, 2.11708736e+05],\n",
       "       [1.00000000e+00, 1.72000000e+01, 2.95840000e+02, 5.08844800e+03],\n",
       "       [1.00000000e+00, 2.43200000e+02, 5.91462400e+04, 1.43843656e+07],\n",
       "       [1.00000000e+00, 2.18400000e+02, 4.76985600e+04, 1.04173655e+07],\n",
       "       [1.00000000e+00, 1.63500000e+02, 2.67322500e+04, 4.37072288e+06],\n",
       "       [1.00000000e+00, 1.69000000e+01, 2.85610000e+02, 4.82680900e+03],\n",
       "       [1.00000000e+00, 1.51500000e+02, 2.29522500e+04, 3.47726588e+06],\n",
       "       [1.00000000e+00, 1.31100000e+02, 1.71872100e+04, 2.25324323e+06],\n",
       "       [1.00000000e+00, 1.04600000e+02, 1.09411600e+04, 1.14444534e+06],\n",
       "       [1.00000000e+00, 1.49800000e+02, 2.24400400e+04, 3.36151799e+06],\n",
       "       [1.00000000e+00, 1.20200000e+02, 1.44480400e+04, 1.73665441e+06],\n",
       "       [1.00000000e+00, 2.38000000e+01, 5.66440000e+02, 1.34812720e+04],\n",
       "       [1.00000000e+00, 2.55400000e+02, 6.52291600e+04, 1.66595275e+07],\n",
       "       [1.00000000e+00, 1.84900000e+02, 3.41880100e+04, 6.32136305e+06],\n",
       "       [1.00000000e+00, 1.39300000e+02, 1.94044900e+04, 2.70304546e+06],\n",
       "       [1.00000000e+00, 8.57000000e+01, 7.34449000e+03, 6.29422793e+05],\n",
       "       [1.00000000e+00, 1.31000000e+01, 1.71610000e+02, 2.24809100e+03],\n",
       "       [1.00000000e+00, 2.10700000e+02, 4.43944900e+04, 9.35391904e+06],\n",
       "       [1.00000000e+00, 2.24000000e+02, 5.01760000e+04, 1.12394240e+07],\n",
       "       [1.00000000e+00, 2.29500000e+02, 5.26702500e+04, 1.20878224e+07],\n",
       "       [1.00000000e+00, 1.07400000e+02, 1.15347600e+04, 1.23883322e+06],\n",
       "       [1.00000000e+00, 2.25800000e+02, 5.09856400e+04, 1.15125575e+07],\n",
       "       [1.00000000e+00, 2.89700000e+02, 8.39260900e+04, 2.43133883e+07],\n",
       "       [1.00000000e+00, 8.83000000e+01, 7.79689000e+03, 6.88465387e+05],\n",
       "       [1.00000000e+00, 1.77000000e+02, 3.13290000e+04, 5.54523300e+06],\n",
       "       [1.00000000e+00, 2.73700000e+02, 7.49116900e+04, 2.05033296e+07],\n",
       "       [1.00000000e+00, 6.90000000e+01, 4.76100000e+03, 3.28509000e+05],\n",
       "       [1.00000000e+00, 2.68000000e+01, 7.18240000e+02, 1.92488320e+04],\n",
       "       [1.00000000e+00, 1.23100000e+02, 1.51536100e+04, 1.86540939e+06],\n",
       "       [1.00000000e+00, 7.47000000e+01, 5.58009000e+03, 4.16832723e+05]])"
      ]
     },
     "execution_count": 409,
     "metadata": {},
     "output_type": "execute_result"
    }
   ],
   "source": [
    "x_train_poly"
   ]
  },
  {
   "cell_type": "code",
   "execution_count": 410,
   "metadata": {},
   "outputs": [
    {
     "data": {
      "text/plain": [
       "63     102.7\n",
       "171    164.5\n",
       "189     18.7\n",
       "99     135.2\n",
       "170     50.0\n",
       "       ...  \n",
       "137    273.7\n",
       "65      69.0\n",
       "72      26.8\n",
       "123    123.1\n",
       "37      74.7\n",
       "Name: TV, Length: 150, dtype: float64"
      ]
     },
     "execution_count": 410,
     "metadata": {},
     "output_type": "execute_result"
    }
   ],
   "source": [
    "x_train"
   ]
  },
  {
   "cell_type": "code",
   "execution_count": 411,
   "metadata": {},
   "outputs": [],
   "source": [
    "x_train_poly, x_test_poly = poly.fit_transform(x_train_df), poly.fit_transform(x_test_df)"
   ]
  },
  {
   "cell_type": "code",
   "execution_count": 412,
   "metadata": {},
   "outputs": [],
   "source": [
    "from sklearn import linear_model\n",
    "model = linear_model.LinearRegression()\n",
    "model = model.fit(x_train_poly, y_train)"
   ]
  },
  {
   "cell_type": "code",
   "execution_count": 413,
   "metadata": {},
   "outputs": [],
   "source": [
    "# put them in variable / place holder\n",
    "coefficient = model.coef_\n",
    "\n",
    "intercept = model.intercept_"
   ]
  },
  {
   "cell_type": "code",
   "execution_count": 414,
   "metadata": {},
   "outputs": [
    {
     "data": {
      "image/png": "[encoded data removed]",
      "text/plain": [
       "<Figure size 432x288 with 1 Axes>"
      ]
     },
     "metadata": {
      "needs_background": "light"
     },
     "output_type": "display_data"
    }
   ],
   "source": [
    "import matplotlib.pyplot as plt\n",
    "import numpy as np\n",
    "\n",
    "plt.scatter(df_new['TV'], df_new['Sales'], color='b')\n",
    "plt.show()"
   ]
  },
  {
   "cell_type": "code",
   "execution_count": 415,
   "metadata": {},
   "outputs": [
    {
     "data": {
      "image/png": "[encoded data removed]",
      "text/plain": [
       "<Figure size 432x288 with 1 Axes>"
      ]
     },
     "metadata": {
      "needs_background": "light"
     },
     "output_type": "display_data"
    }
   ],
   "source": [
    "\n",
    "x_axis = np.arange(1, 300, 0.1)\n",
    "response = intercept + coefficient[1]*x_axis + coefficient[2]*x_axis**2 + coefficient[3]*x_axis**3 \n",
    "\n",
    "plt.scatter(df_new['TV'], df_new['Sales'], color='b')\n",
    "plt.plot(x_axis, response, color='r')\n",
    "plt.show()"
   ]
  },
  {
   "cell_type": "code",
   "execution_count": 416,
   "metadata": {},
   "outputs": [
    {
     "data": {
      "text/plain": [
       "0.7734279696444585"
      ]
     },
     "execution_count": 416,
     "metadata": {},
     "output_type": "execute_result"
    }
   ],
   "source": [
    "from sklearn.metrics import r2_score\n",
    "\n",
    "prediction = model.predict(x_test_poly)\n",
    "r2_score(prediction, y_test)"
   ]
  },
  {
   "cell_type": "markdown",
   "metadata": {},
   "source": [
    "### Remarks\n",
    "* The non-linear regression or polynomial witih a second degree gave a prediction of 77.3%. Trying with a higher degree of 3 didnt improve the result\n",
    "* Further work should consider the use of Logarithmic Non linear regression"
   ]
  },
  {
   "cell_type": "code",
   "execution_count": null,
   "metadata": {},
   "outputs": [],
   "source": []
  }
 ],
 "metadata": {
  "kernelspec": {
   "display_name": "Python 3",
   "language": "python",
   "name": "python3"
  },
  "language_info": {
   "codemirror_mode": {
    "name": "ipython",
    "version": 3
   },
   "file_extension": ".py",
   "mimetype": "text/x-python",
   "name": "python",
   "nbconvert_exporter": "python",
   "pygments_lexer": "ipython3",
   "version": "3.8.5"
  }
 },
 "nbformat": 4,
 "nbformat_minor": 4
}
