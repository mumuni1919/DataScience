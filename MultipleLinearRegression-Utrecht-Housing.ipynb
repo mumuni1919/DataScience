{
 "cells": [
  {
   "cell_type": "markdown",
   "metadata": {},
   "source": [
    "# Multiple Linear Regression on Utrecht Housing Dataset"
   ]
  },
  {
   "cell_type": "markdown",
   "metadata": {},
   "source": [
    "### Definition:\n",
    "Multiple linear regression (MLR), also known simply as multiple regression, is a statistical technique that uses several explanatory variables to predict the outcome of a response variable. The goal of multiple linear regression is to model the linear relationship between the explanatory (independent) variables and response (dependent) variables. In essence, multiple regression is the extension of ordinary least-squares (OLS) regression because it involves more than one explanatory variable.\n",
    "\n",
    "source: https://www.investopedia.com/"
   ]
  },
  {
   "cell_type": "markdown",
   "metadata": {},
   "source": [
    "#### The objective is to:\n",
    "* Implement Multiple Linear Regression using Scikit Learn on the Utrecht Housing Dataset\n",
    "* Use Multicollinearity function to to determine which independent features should be used in the process\n",
    "* Create a model which will be trained and tested\n",
    "* Evaluate the Model to know its efficiency in making predictions"
   ]
  },
  {
   "cell_type": "markdown",
   "metadata": {},
   "source": [
    "#### Processes required to achieve the objective\n",
    "\n",
    "* Data Understanding\n",
    "* Import necessary libraries\n",
    "* Data Importation using Pandas to create easily readable dataframe\n",
    "* Exploration of Data - Checking general data overview using 'describe' amd 'info' \n",
    "* Data cleaning if necessary by removing redundant or empty data\n",
    "* Data Visualisation (checking correlation) using matplotlib to create various plots \n",
    "* Use Multicollinearity function to help select features for the Model\n",
    "* using randomness to partition the data into 80% and 20%\n",
    "* using 80% of the data for training and the remaining 20% for testing\n",
    "* Use plots to see the distribution of trained data and ascertain that data training has been achieved\n",
    "* use sklearn to call out the Linear Model\n",
    "* define our dependent and independent variables for the training model\n",
    "* check the coefficients of the model\n",
    "* plot the output of the training model using a specific feature to check if training was succesful\n",
    "* Evaluate the model\n",
    "* Remarks about observation "
   ]
  },
  {
   "cell_type": "markdown",
   "metadata": {},
   "source": [
    "# Understanding the Data"
   ]
  },
  {
   "cell_type": "markdown",
   "metadata": {},
   "source": [
    "The order of elements is id,zipcode,lot-len,lot-width,lot-area,house-area,garden-size,balcony,x-coor,y-coor,buildyear,bathrooms,taxvalue,retailvalue,energy-eff,monument.\n",
    "\n",
    "**Input columns\n",
    "**\n",
    "The meaning of each column is as follows:\n",
    "\n",
    "id: a number between 0 and 100000 that is a unique identifier for each house. Do not use this in your algorithms\n",
    "\n",
    "zipcode: Each house has a zipcode corresponding to the area the house is in. The zipcode can be an indicator of build year or other properties. There are four different zip codes in use: 3520, 3525, 3525, 3800.\n",
    "\n",
    "lot-len: the length in meters of the plot of land the house is built on. Each house is built on a square plot of land. It can be anything from 5.0 to 100.0 meters\n",
    "\n",
    "lot-width: the width in meters of the plot of land the house is built on. It can be anything from 5.0 to 100.0 meters\n",
    "\n",
    "lot-area: the total area of the plot of land the house is built on. You can probably compute this from lot-len and lot-width.\n",
    "house-area. The living area of the house in square meters. 30.0 square meters is a tiny house, 200.0 square meters would be a mansion.\n",
    "\n",
    "garden-size: The size of the garden in square meters. Many people want to have a large garden.\n",
    "balcony: the number of balconies the house has. Common values are 0,1, or 3 balconies\n",
    "\n",
    "x-coor: the x-coordinate describing the location of the house. It is an integer value between 2000 and 3000\n",
    "\n",
    "y-coor: the y-coordinate describing the location of the house. It is an integer value between 5000 and 6000\n",
    "\n",
    "buildyear. The year that the house was built. Some of the oldest houses are from 1100,, but most houses were built in the 2oth and 21st century.\n",
    "\n",
    "bathrooms: Most houses in Utrecht have one bathroom. Some houses have 2 or 3 bathrooms\n",
    "\n",
    "**Output/target values:\n",
    "**\n",
    "taxvalue: The taxvalue of the house is a number between 50.000 and 1.000.000 that is a conservative value of the house. It is estimated (often based on real housing data) by the government to determine taxes. In a calm market, it is close to but often slightly lower than the retail value. It is rounded to the nearest 100 euros.\n",
    "\n",
    "retailvalue: the market value of a house. It is a number between 50.000 and 1.000.000. It is rounded to the nearest 1000 euros.\n",
    "\n",
    "energy-eff: This value is either 0 or 1. If it is 1 it means that the house is energy efficient. This is important for certain climate goals of the city of Utrecht\n",
    "\n",
    "monument: Some houses in Utrecht, especially older houses, have monumental value since they have a unique architectural design. People have been trying to predict if this is the case from other data, since it is timeconsuming to visit each house and inspect the architecture\n",
    "\n",
    "source: https://www.kaggle.com/datasets/ictinstitute/utrecht-housing-dataset"
   ]
  },
  {
   "cell_type": "markdown",
   "metadata": {},
   "source": [
    "### Libraries Import"
   ]
  },
  {
   "cell_type": "code",
   "execution_count": 1,
   "metadata": {},
   "outputs": [],
   "source": [
    "import pandas as pd # for reading data\n",
    "import numpy as np # for doing vital mathematical operations\n",
    "import matplotlib.pyplot as plt # for plotting graphs"
   ]
  },
  {
   "cell_type": "markdown",
   "metadata": {},
   "source": [
    "### Data Import"
   ]
  },
  {
   "cell_type": "code",
   "execution_count": 2,
   "metadata": {},
   "outputs": [],
   "source": [
    "df = pd.read_csv('utrechthousing.csv')"
   ]
  },
  {
   "cell_type": "code",
   "execution_count": 3,
   "metadata": {},
   "outputs": [
    {
     "data": {
      "text/html": [
       "<div>\n",
       "<style scoped>\n",
       "    .dataframe tbody tr th:only-of-type {\n",
       "        vertical-align: middle;\n",
       "    }\n",
       "\n",
       "    .dataframe tbody tr th {\n",
       "        vertical-align: top;\n",
       "    }\n",
       "\n",
       "    .dataframe thead th {\n",
       "        text-align: right;\n",
       "    }\n",
       "</style>\n",
       "<table border=\"1\" class=\"dataframe\">\n",
       "  <thead>\n",
       "    <tr style=\"text-align: right;\">\n",
       "      <th></th>\n",
       "      <th>id</th>\n",
       "      <th>zipcode</th>\n",
       "      <th>lot-len</th>\n",
       "      <th>lot-width</th>\n",
       "      <th>lot-area</th>\n",
       "      <th>house-area</th>\n",
       "      <th>garden-size</th>\n",
       "      <th>balcony</th>\n",
       "      <th>x-coor</th>\n",
       "      <th>y-coor</th>\n",
       "      <th>buildyear</th>\n",
       "      <th>bathrooms</th>\n",
       "      <th>taxvalue</th>\n",
       "      <th>retailvalue</th>\n",
       "      <th>energy-eff</th>\n",
       "      <th>monument</th>\n",
       "    </tr>\n",
       "  </thead>\n",
       "  <tbody>\n",
       "    <tr>\n",
       "      <th>0</th>\n",
       "      <td>100426</td>\n",
       "      <td>3528</td>\n",
       "      <td>11.1</td>\n",
       "      <td>5.0</td>\n",
       "      <td>55.5</td>\n",
       "      <td>112.50</td>\n",
       "      <td>10.5</td>\n",
       "      <td>2</td>\n",
       "      <td>2112</td>\n",
       "      <td>5113</td>\n",
       "      <td>1932</td>\n",
       "      <td>1</td>\n",
       "      <td>494000</td>\n",
       "      <td>670000</td>\n",
       "      <td>0</td>\n",
       "      <td>1</td>\n",
       "    </tr>\n",
       "    <tr>\n",
       "      <th>1</th>\n",
       "      <td>100871</td>\n",
       "      <td>3528</td>\n",
       "      <td>13.6</td>\n",
       "      <td>5.0</td>\n",
       "      <td>68.0</td>\n",
       "      <td>112.50</td>\n",
       "      <td>8.0</td>\n",
       "      <td>0</td>\n",
       "      <td>2355</td>\n",
       "      <td>5218</td>\n",
       "      <td>1945</td>\n",
       "      <td>1</td>\n",
       "      <td>504000</td>\n",
       "      <td>675000</td>\n",
       "      <td>0</td>\n",
       "      <td>1</td>\n",
       "    </tr>\n",
       "    <tr>\n",
       "      <th>2</th>\n",
       "      <td>100936</td>\n",
       "      <td>3800</td>\n",
       "      <td>16.6</td>\n",
       "      <td>6.7</td>\n",
       "      <td>111.2</td>\n",
       "      <td>150.75</td>\n",
       "      <td>44.2</td>\n",
       "      <td>2</td>\n",
       "      <td>2656</td>\n",
       "      <td>5200</td>\n",
       "      <td>1946</td>\n",
       "      <td>1</td>\n",
       "      <td>692000</td>\n",
       "      <td>869000</td>\n",
       "      <td>0</td>\n",
       "      <td>1</td>\n",
       "    </tr>\n",
       "    <tr>\n",
       "      <th>3</th>\n",
       "      <td>100970</td>\n",
       "      <td>3800</td>\n",
       "      <td>18.6</td>\n",
       "      <td>6.0</td>\n",
       "      <td>111.6</td>\n",
       "      <td>108.00</td>\n",
       "      <td>39.6</td>\n",
       "      <td>2</td>\n",
       "      <td>2856</td>\n",
       "      <td>5201</td>\n",
       "      <td>1946</td>\n",
       "      <td>1</td>\n",
       "      <td>521000</td>\n",
       "      <td>628000</td>\n",
       "      <td>0</td>\n",
       "      <td>1</td>\n",
       "    </tr>\n",
       "    <tr>\n",
       "      <th>4</th>\n",
       "      <td>101191</td>\n",
       "      <td>3800</td>\n",
       "      <td>19.6</td>\n",
       "      <td>6.0</td>\n",
       "      <td>117.6</td>\n",
       "      <td>108.00</td>\n",
       "      <td>45.6</td>\n",
       "      <td>1</td>\n",
       "      <td>2962</td>\n",
       "      <td>5266</td>\n",
       "      <td>1950</td>\n",
       "      <td>1</td>\n",
       "      <td>526000</td>\n",
       "      <td>610000</td>\n",
       "      <td>0</td>\n",
       "      <td>1</td>\n",
       "    </tr>\n",
       "  </tbody>\n",
       "</table>\n",
       "</div>"
      ],
      "text/plain": [
       "       id  zipcode  lot-len  lot-width  lot-area  house-area  garden-size  \\\n",
       "0  100426     3528     11.1        5.0      55.5      112.50         10.5   \n",
       "1  100871     3528     13.6        5.0      68.0      112.50          8.0   \n",
       "2  100936     3800     16.6        6.7     111.2      150.75         44.2   \n",
       "3  100970     3800     18.6        6.0     111.6      108.00         39.6   \n",
       "4  101191     3800     19.6        6.0     117.6      108.00         45.6   \n",
       "\n",
       "   balcony  x-coor  y-coor  buildyear  bathrooms  taxvalue  retailvalue  \\\n",
       "0        2    2112    5113       1932          1    494000       670000   \n",
       "1        0    2355    5218       1945          1    504000       675000   \n",
       "2        2    2656    5200       1946          1    692000       869000   \n",
       "3        2    2856    5201       1946          1    521000       628000   \n",
       "4        1    2962    5266       1950          1    526000       610000   \n",
       "\n",
       "   energy-eff  monument  \n",
       "0           0         1  \n",
       "1           0         1  \n",
       "2           0         1  \n",
       "3           0         1  \n",
       "4           0         1  "
      ]
     },
     "execution_count": 3,
     "metadata": {},
     "output_type": "execute_result"
    }
   ],
   "source": [
    "df.head()"
   ]
  },
  {
   "cell_type": "markdown",
   "metadata": {},
   "source": [
    "### Data Exploration"
   ]
  },
  {
   "cell_type": "code",
   "execution_count": 4,
   "metadata": {},
   "outputs": [
    {
     "data": {
      "text/html": [
       "<div>\n",
       "<style scoped>\n",
       "    .dataframe tbody tr th:only-of-type {\n",
       "        vertical-align: middle;\n",
       "    }\n",
       "\n",
       "    .dataframe tbody tr th {\n",
       "        vertical-align: top;\n",
       "    }\n",
       "\n",
       "    .dataframe thead th {\n",
       "        text-align: right;\n",
       "    }\n",
       "</style>\n",
       "<table border=\"1\" class=\"dataframe\">\n",
       "  <thead>\n",
       "    <tr style=\"text-align: right;\">\n",
       "      <th></th>\n",
       "      <th>id</th>\n",
       "      <th>zipcode</th>\n",
       "      <th>lot-len</th>\n",
       "      <th>lot-width</th>\n",
       "      <th>lot-area</th>\n",
       "      <th>house-area</th>\n",
       "      <th>garden-size</th>\n",
       "      <th>balcony</th>\n",
       "      <th>x-coor</th>\n",
       "      <th>y-coor</th>\n",
       "      <th>buildyear</th>\n",
       "      <th>bathrooms</th>\n",
       "      <th>taxvalue</th>\n",
       "      <th>retailvalue</th>\n",
       "      <th>energy-eff</th>\n",
       "      <th>monument</th>\n",
       "    </tr>\n",
       "  </thead>\n",
       "  <tbody>\n",
       "    <tr>\n",
       "      <th>count</th>\n",
       "      <td>2000.000000</td>\n",
       "      <td>2000.000000</td>\n",
       "      <td>2000.000000</td>\n",
       "      <td>2000.00000</td>\n",
       "      <td>2000.000000</td>\n",
       "      <td>2000.000000</td>\n",
       "      <td>2000.00000</td>\n",
       "      <td>2000.000000</td>\n",
       "      <td>2000.000000</td>\n",
       "      <td>2000.000000</td>\n",
       "      <td>2000.000000</td>\n",
       "      <td>2000.000000</td>\n",
       "      <td>2.000000e+03</td>\n",
       "      <td>2.000000e+03</td>\n",
       "      <td>2000.000000</td>\n",
       "      <td>2000.000000</td>\n",
       "    </tr>\n",
       "    <tr>\n",
       "      <th>mean</th>\n",
       "      <td>550159.413500</td>\n",
       "      <td>3609.088000</td>\n",
       "      <td>14.848500</td>\n",
       "      <td>7.75520</td>\n",
       "      <td>115.236600</td>\n",
       "      <td>139.884750</td>\n",
       "      <td>35.45365</td>\n",
       "      <td>1.152500</td>\n",
       "      <td>2484.360500</td>\n",
       "      <td>5484.435000</td>\n",
       "      <td>1969.044500</td>\n",
       "      <td>1.327000</td>\n",
       "      <td>6.517150e+05</td>\n",
       "      <td>7.910245e+05</td>\n",
       "      <td>0.501500</td>\n",
       "      <td>0.510000</td>\n",
       "    </tr>\n",
       "    <tr>\n",
       "      <th>std</th>\n",
       "      <td>257599.198061</td>\n",
       "      <td>131.206058</td>\n",
       "      <td>2.883188</td>\n",
       "      <td>1.69576</td>\n",
       "      <td>34.370459</td>\n",
       "      <td>41.745307</td>\n",
       "      <td>23.86576</td>\n",
       "      <td>0.698203</td>\n",
       "      <td>288.399892</td>\n",
       "      <td>288.538538</td>\n",
       "      <td>26.358109</td>\n",
       "      <td>0.469235</td>\n",
       "      <td>1.829273e+05</td>\n",
       "      <td>2.109795e+05</td>\n",
       "      <td>0.500123</td>\n",
       "      <td>0.500025</td>\n",
       "    </tr>\n",
       "    <tr>\n",
       "      <th>min</th>\n",
       "      <td>100426.000000</td>\n",
       "      <td>3500.000000</td>\n",
       "      <td>10.000000</td>\n",
       "      <td>5.00000</td>\n",
       "      <td>50.500000</td>\n",
       "      <td>67.500000</td>\n",
       "      <td>5.00000</td>\n",
       "      <td>0.000000</td>\n",
       "      <td>2000.000000</td>\n",
       "      <td>5000.000000</td>\n",
       "      <td>1920.000000</td>\n",
       "      <td>1.000000</td>\n",
       "      <td>3.100000e+05</td>\n",
       "      <td>4.190000e+05</td>\n",
       "      <td>0.000000</td>\n",
       "      <td>0.000000</td>\n",
       "    </tr>\n",
       "    <tr>\n",
       "      <th>25%</th>\n",
       "      <td>330326.250000</td>\n",
       "      <td>3525.000000</td>\n",
       "      <td>12.425000</td>\n",
       "      <td>6.47500</td>\n",
       "      <td>89.100000</td>\n",
       "      <td>110.700000</td>\n",
       "      <td>13.87500</td>\n",
       "      <td>1.000000</td>\n",
       "      <td>2242.250000</td>\n",
       "      <td>5242.250000</td>\n",
       "      <td>1947.000000</td>\n",
       "      <td>1.000000</td>\n",
       "      <td>5.210000e+05</td>\n",
       "      <td>6.317500e+05</td>\n",
       "      <td>0.000000</td>\n",
       "      <td>0.000000</td>\n",
       "    </tr>\n",
       "    <tr>\n",
       "      <th>50%</th>\n",
       "      <td>556845.500000</td>\n",
       "      <td>3528.000000</td>\n",
       "      <td>14.850000</td>\n",
       "      <td>7.65000</td>\n",
       "      <td>109.950000</td>\n",
       "      <td>135.000000</td>\n",
       "      <td>32.00000</td>\n",
       "      <td>1.000000</td>\n",
       "      <td>2484.500000</td>\n",
       "      <td>5484.500000</td>\n",
       "      <td>1969.000000</td>\n",
       "      <td>1.000000</td>\n",
       "      <td>6.330000e+05</td>\n",
       "      <td>7.660000e+05</td>\n",
       "      <td>1.000000</td>\n",
       "      <td>1.000000</td>\n",
       "    </tr>\n",
       "    <tr>\n",
       "      <th>75%</th>\n",
       "      <td>763794.250000</td>\n",
       "      <td>3800.000000</td>\n",
       "      <td>17.275000</td>\n",
       "      <td>9.10000</td>\n",
       "      <td>138.325000</td>\n",
       "      <td>166.500000</td>\n",
       "      <td>52.55000</td>\n",
       "      <td>2.000000</td>\n",
       "      <td>2726.750000</td>\n",
       "      <td>5726.750000</td>\n",
       "      <td>1992.000000</td>\n",
       "      <td>2.000000</td>\n",
       "      <td>7.592500e+05</td>\n",
       "      <td>9.072500e+05</td>\n",
       "      <td>1.000000</td>\n",
       "      <td>1.000000</td>\n",
       "    </tr>\n",
       "    <tr>\n",
       "      <th>max</th>\n",
       "      <td>993963.000000</td>\n",
       "      <td>3800.000000</td>\n",
       "      <td>19.700000</td>\n",
       "      <td>11.00000</td>\n",
       "      <td>215.600000</td>\n",
       "      <td>247.500000</td>\n",
       "      <td>115.50000</td>\n",
       "      <td>2.000000</td>\n",
       "      <td>2969.000000</td>\n",
       "      <td>5969.000000</td>\n",
       "      <td>2018.000000</td>\n",
       "      <td>2.000000</td>\n",
       "      <td>1.162000e+06</td>\n",
       "      <td>1.428000e+06</td>\n",
       "      <td>1.000000</td>\n",
       "      <td>1.000000</td>\n",
       "    </tr>\n",
       "  </tbody>\n",
       "</table>\n",
       "</div>"
      ],
      "text/plain": [
       "                  id      zipcode      lot-len   lot-width     lot-area  \\\n",
       "count    2000.000000  2000.000000  2000.000000  2000.00000  2000.000000   \n",
       "mean   550159.413500  3609.088000    14.848500     7.75520   115.236600   \n",
       "std    257599.198061   131.206058     2.883188     1.69576    34.370459   \n",
       "min    100426.000000  3500.000000    10.000000     5.00000    50.500000   \n",
       "25%    330326.250000  3525.000000    12.425000     6.47500    89.100000   \n",
       "50%    556845.500000  3528.000000    14.850000     7.65000   109.950000   \n",
       "75%    763794.250000  3800.000000    17.275000     9.10000   138.325000   \n",
       "max    993963.000000  3800.000000    19.700000    11.00000   215.600000   \n",
       "\n",
       "        house-area  garden-size      balcony       x-coor       y-coor  \\\n",
       "count  2000.000000   2000.00000  2000.000000  2000.000000  2000.000000   \n",
       "mean    139.884750     35.45365     1.152500  2484.360500  5484.435000   \n",
       "std      41.745307     23.86576     0.698203   288.399892   288.538538   \n",
       "min      67.500000      5.00000     0.000000  2000.000000  5000.000000   \n",
       "25%     110.700000     13.87500     1.000000  2242.250000  5242.250000   \n",
       "50%     135.000000     32.00000     1.000000  2484.500000  5484.500000   \n",
       "75%     166.500000     52.55000     2.000000  2726.750000  5726.750000   \n",
       "max     247.500000    115.50000     2.000000  2969.000000  5969.000000   \n",
       "\n",
       "         buildyear    bathrooms      taxvalue   retailvalue   energy-eff  \\\n",
       "count  2000.000000  2000.000000  2.000000e+03  2.000000e+03  2000.000000   \n",
       "mean   1969.044500     1.327000  6.517150e+05  7.910245e+05     0.501500   \n",
       "std      26.358109     0.469235  1.829273e+05  2.109795e+05     0.500123   \n",
       "min    1920.000000     1.000000  3.100000e+05  4.190000e+05     0.000000   \n",
       "25%    1947.000000     1.000000  5.210000e+05  6.317500e+05     0.000000   \n",
       "50%    1969.000000     1.000000  6.330000e+05  7.660000e+05     1.000000   \n",
       "75%    1992.000000     2.000000  7.592500e+05  9.072500e+05     1.000000   \n",
       "max    2018.000000     2.000000  1.162000e+06  1.428000e+06     1.000000   \n",
       "\n",
       "          monument  \n",
       "count  2000.000000  \n",
       "mean      0.510000  \n",
       "std       0.500025  \n",
       "min       0.000000  \n",
       "25%       0.000000  \n",
       "50%       1.000000  \n",
       "75%       1.000000  \n",
       "max       1.000000  "
      ]
     },
     "execution_count": 4,
     "metadata": {},
     "output_type": "execute_result"
    }
   ],
   "source": [
    "df.describe()"
   ]
  },
  {
   "cell_type": "code",
   "execution_count": 5,
   "metadata": {},
   "outputs": [
    {
     "name": "stdout",
     "output_type": "stream",
     "text": [
      "<class 'pandas.core.frame.DataFrame'>\n",
      "RangeIndex: 2000 entries, 0 to 1999\n",
      "Data columns (total 16 columns):\n",
      " #   Column       Non-Null Count  Dtype  \n",
      "---  ------       --------------  -----  \n",
      " 0   id           2000 non-null   int64  \n",
      " 1   zipcode      2000 non-null   int64  \n",
      " 2   lot-len      2000 non-null   float64\n",
      " 3   lot-width    2000 non-null   float64\n",
      " 4   lot-area     2000 non-null   float64\n",
      " 5   house-area   2000 non-null   float64\n",
      " 6   garden-size  2000 non-null   float64\n",
      " 7   balcony      2000 non-null   int64  \n",
      " 8   x-coor       2000 non-null   int64  \n",
      " 9   y-coor       2000 non-null   int64  \n",
      " 10  buildyear    2000 non-null   int64  \n",
      " 11  bathrooms    2000 non-null   int64  \n",
      " 12  taxvalue     2000 non-null   int64  \n",
      " 13  retailvalue  2000 non-null   int64  \n",
      " 14  energy-eff   2000 non-null   int64  \n",
      " 15  monument     2000 non-null   int64  \n",
      "dtypes: float64(5), int64(11)\n",
      "memory usage: 250.1 KB\n"
     ]
    }
   ],
   "source": [
    "df.info()"
   ]
  },
  {
   "cell_type": "code",
   "execution_count": 6,
   "metadata": {},
   "outputs": [
    {
     "data": {
      "text/plain": [
       "False"
      ]
     },
     "execution_count": 6,
     "metadata": {},
     "output_type": "execute_result"
    }
   ],
   "source": [
    "df.isnull().values.any()"
   ]
  },
  {
   "cell_type": "markdown",
   "metadata": {},
   "source": [
    "### Initial Feature Selection using correlation"
   ]
  },
  {
   "cell_type": "code",
   "execution_count": 7,
   "metadata": {},
   "outputs": [
    {
     "data": {
      "text/plain": [
       "id             0.047345\n",
       "zipcode        0.029196\n",
       "lot-len       -0.025658\n",
       "lot-width      0.741042\n",
       "lot-area       0.533851\n",
       "house-area     0.969273\n",
       "garden-size    0.227426\n",
       "balcony        0.215810\n",
       "x-coor        -0.025412\n",
       "y-coor         0.127973\n",
       "buildyear      0.124614\n",
       "bathrooms      0.370401\n",
       "taxvalue       0.965050\n",
       "retailvalue    1.000000\n",
       "energy-eff    -0.026770\n",
       "monument       0.329109\n",
       "Name: retailvalue, dtype: float64"
      ]
     },
     "execution_count": 7,
     "metadata": {},
     "output_type": "execute_result"
    }
   ],
   "source": [
    "df.corr()['retailvalue']"
   ]
  },
  {
   "cell_type": "markdown",
   "metadata": {},
   "source": [
    "* the following had significant influence on the dependent value: lot-widdth, lot-area, house-area, taxvalue,  bathrooms"
   ]
  },
  {
   "cell_type": "code",
   "execution_count": 24,
   "metadata": {},
   "outputs": [],
   "source": [
    "cdf = df[['lot-width','lot-area','house-area','taxvalue','bathrooms','retailvalue']]"
   ]
  },
  {
   "cell_type": "code",
   "execution_count": 25,
   "metadata": {},
   "outputs": [
    {
     "data": {
      "text/html": [
       "<div>\n",
       "<style scoped>\n",
       "    .dataframe tbody tr th:only-of-type {\n",
       "        vertical-align: middle;\n",
       "    }\n",
       "\n",
       "    .dataframe tbody tr th {\n",
       "        vertical-align: top;\n",
       "    }\n",
       "\n",
       "    .dataframe thead th {\n",
       "        text-align: right;\n",
       "    }\n",
       "</style>\n",
       "<table border=\"1\" class=\"dataframe\">\n",
       "  <thead>\n",
       "    <tr style=\"text-align: right;\">\n",
       "      <th></th>\n",
       "      <th>lot-width</th>\n",
       "      <th>lot-area</th>\n",
       "      <th>house-area</th>\n",
       "      <th>taxvalue</th>\n",
       "      <th>bathrooms</th>\n",
       "      <th>retailvalue</th>\n",
       "    </tr>\n",
       "  </thead>\n",
       "  <tbody>\n",
       "    <tr>\n",
       "      <th>0</th>\n",
       "      <td>5.0</td>\n",
       "      <td>55.5</td>\n",
       "      <td>112.50</td>\n",
       "      <td>494000</td>\n",
       "      <td>1</td>\n",
       "      <td>670000</td>\n",
       "    </tr>\n",
       "    <tr>\n",
       "      <th>1</th>\n",
       "      <td>5.0</td>\n",
       "      <td>68.0</td>\n",
       "      <td>112.50</td>\n",
       "      <td>504000</td>\n",
       "      <td>1</td>\n",
       "      <td>675000</td>\n",
       "    </tr>\n",
       "    <tr>\n",
       "      <th>2</th>\n",
       "      <td>6.7</td>\n",
       "      <td>111.2</td>\n",
       "      <td>150.75</td>\n",
       "      <td>692000</td>\n",
       "      <td>1</td>\n",
       "      <td>869000</td>\n",
       "    </tr>\n",
       "    <tr>\n",
       "      <th>3</th>\n",
       "      <td>6.0</td>\n",
       "      <td>111.6</td>\n",
       "      <td>108.00</td>\n",
       "      <td>521000</td>\n",
       "      <td>1</td>\n",
       "      <td>628000</td>\n",
       "    </tr>\n",
       "    <tr>\n",
       "      <th>4</th>\n",
       "      <td>6.0</td>\n",
       "      <td>117.6</td>\n",
       "      <td>108.00</td>\n",
       "      <td>526000</td>\n",
       "      <td>1</td>\n",
       "      <td>610000</td>\n",
       "    </tr>\n",
       "    <tr>\n",
       "      <th>5</th>\n",
       "      <td>9.3</td>\n",
       "      <td>132.1</td>\n",
       "      <td>125.55</td>\n",
       "      <td>608000</td>\n",
       "      <td>1</td>\n",
       "      <td>818000</td>\n",
       "    </tr>\n",
       "    <tr>\n",
       "      <th>6</th>\n",
       "      <td>10.2</td>\n",
       "      <td>170.3</td>\n",
       "      <td>229.50</td>\n",
       "      <td>1054000</td>\n",
       "      <td>1</td>\n",
       "      <td>1297000</td>\n",
       "    </tr>\n",
       "    <tr>\n",
       "      <th>7</th>\n",
       "      <td>9.5</td>\n",
       "      <td>171.0</td>\n",
       "      <td>128.25</td>\n",
       "      <td>650000</td>\n",
       "      <td>2</td>\n",
       "      <td>792000</td>\n",
       "    </tr>\n",
       "    <tr>\n",
       "      <th>8</th>\n",
       "      <td>9.3</td>\n",
       "      <td>98.6</td>\n",
       "      <td>167.40</td>\n",
       "      <td>748000</td>\n",
       "      <td>1</td>\n",
       "      <td>947000</td>\n",
       "    </tr>\n",
       "  </tbody>\n",
       "</table>\n",
       "</div>"
      ],
      "text/plain": [
       "   lot-width  lot-area  house-area  taxvalue  bathrooms  retailvalue\n",
       "0        5.0      55.5      112.50    494000          1       670000\n",
       "1        5.0      68.0      112.50    504000          1       675000\n",
       "2        6.7     111.2      150.75    692000          1       869000\n",
       "3        6.0     111.6      108.00    521000          1       628000\n",
       "4        6.0     117.6      108.00    526000          1       610000\n",
       "5        9.3     132.1      125.55    608000          1       818000\n",
       "6       10.2     170.3      229.50   1054000          1      1297000\n",
       "7        9.5     171.0      128.25    650000          2       792000\n",
       "8        9.3      98.6      167.40    748000          1       947000"
      ]
     },
     "execution_count": 25,
     "metadata": {},
     "output_type": "execute_result"
    }
   ],
   "source": [
    "cdf.head(9)"
   ]
  },
  {
   "cell_type": "markdown",
   "metadata": {},
   "source": [
    "## Data Preprocessing / Data Cleaning / Data Screening"
   ]
  },
  {
   "cell_type": "markdown",
   "metadata": {},
   "source": [
    "* One of the main things to do when working on Mching Learning is to get the data ready for the process.\n",
    "* In this case our data is clean and we dont have to do a lot in the preprocessing stage"
   ]
  },
  {
   "cell_type": "markdown",
   "metadata": {},
   "source": [
    "# Data Visualisation"
   ]
  },
  {
   "cell_type": "markdown",
   "metadata": {},
   "source": [
    "### Plots"
   ]
  },
  {
   "cell_type": "code",
   "execution_count": 26,
   "metadata": {},
   "outputs": [
    {
     "data": {
      "image/png": "[encoded data removed]",
      "text/plain": [
       "<Figure size 432x288 with 6 Axes>"
      ]
     },
     "metadata": {
      "needs_background": "light"
     },
     "output_type": "display_data"
    }
   ],
   "source": [
    "cdf.hist()\n",
    "plt.show()"
   ]
  },
  {
   "cell_type": "code",
   "execution_count": 27,
   "metadata": {},
   "outputs": [
    {
     "data": {
      "text/plain": [
       "Text(0, 0.5, 'retailvalue')"
      ]
     },
     "execution_count": 27,
     "metadata": {},
     "output_type": "execute_result"
    },
    {
     "data": {
      "image/png": "[encoded data removed]",
      "text/plain": [
       "<Figure size 432x288 with 1 Axes>"
      ]
     },
     "metadata": {
      "needs_background": "light"
     },
     "output_type": "display_data"
    }
   ],
   "source": [
    "plt.scatter(cdf.taxvalue, cdf.retailvalue)\n",
    "\n",
    "# adding x and y lables to the plot\n",
    "plt.xlabel(\"taxvalue\")\n",
    "plt.ylabel(\"retailvalue\")\n"
   ]
  },
  {
   "cell_type": "markdown",
   "metadata": {},
   "source": [
    "# Feature Selection - final: Defining elements for our model"
   ]
  },
  {
   "cell_type": "markdown",
   "metadata": {},
   "source": [
    "* its important to know what is our dependent variable and what is our independent variable\n",
    "* profit is the yardstick that defines a company's success so we use profit as dependent and anoother parameter as independent"
   ]
  },
  {
   "cell_type": "code",
   "execution_count": 29,
   "metadata": {},
   "outputs": [],
   "source": [
    "import statsmodels.api as sm"
   ]
  },
  {
   "cell_type": "code",
   "execution_count": 30,
   "metadata": {},
   "outputs": [],
   "source": [
    "X =cdf[['lot-width', 'lot-area', 'house-area', 'taxvalue', 'bathrooms']]\n",
    "y =cdf[['retailvalue']]"
   ]
  },
  {
   "cell_type": "code",
   "execution_count": 31,
   "metadata": {},
   "outputs": [
    {
     "name": "stderr",
     "output_type": "stream",
     "text": [
      "C:\\Users\\user\\anaconda3\\lib\\site-packages\\statsmodels\\tsa\\tsatools.py:142: FutureWarning: In a future version of pandas all arguments of concat except for the argument 'objs' will be keyword-only\n",
      "  x = pd.concat(x[::order], 1)\n"
     ]
    }
   ],
   "source": [
    "X = sm.add_constant(X)\n",
    "model = sm.OLS(y, X).fit()"
   ]
  },
  {
   "cell_type": "code",
   "execution_count": 32,
   "metadata": {},
   "outputs": [
    {
     "data": {
      "text/html": [
       "<table class=\"simpletable\">\n",
       "<caption>OLS Regression Results</caption>\n",
       "<tr>\n",
       "  <th>Dep. Variable:</th>       <td>retailvalue</td>   <th>  R-squared:         </th> <td>   0.946</td> \n",
       "</tr>\n",
       "<tr>\n",
       "  <th>Model:</th>                   <td>OLS</td>       <th>  Adj. R-squared:    </th> <td>   0.946</td> \n",
       "</tr>\n",
       "<tr>\n",
       "  <th>Method:</th>             <td>Least Squares</td>  <th>  F-statistic:       </th> <td>   7048.</td> \n",
       "</tr>\n",
       "<tr>\n",
       "  <th>Date:</th>             <td>Sun, 17 Sep 2023</td> <th>  Prob (F-statistic):</th>  <td>  0.00</td>  \n",
       "</tr>\n",
       "<tr>\n",
       "  <th>Time:</th>                 <td>18:47:52</td>     <th>  Log-Likelihood:    </th> <td> -24429.</td> \n",
       "</tr>\n",
       "<tr>\n",
       "  <th>No. Observations:</th>      <td>  2000</td>      <th>  AIC:               </th> <td>4.887e+04</td>\n",
       "</tr>\n",
       "<tr>\n",
       "  <th>Df Residuals:</th>          <td>  1994</td>      <th>  BIC:               </th> <td>4.890e+04</td>\n",
       "</tr>\n",
       "<tr>\n",
       "  <th>Df Model:</th>              <td>     5</td>      <th>                     </th>     <td> </td>    \n",
       "</tr>\n",
       "<tr>\n",
       "  <th>Covariance Type:</th>      <td>nonrobust</td>    <th>                     </th>     <td> </td>    \n",
       "</tr>\n",
       "</table>\n",
       "<table class=\"simpletable\">\n",
       "<tr>\n",
       "       <td></td>         <th>coef</th>     <th>std err</th>      <th>t</th>      <th>P>|t|</th>  <th>[0.025</th>    <th>0.975]</th>  \n",
       "</tr>\n",
       "<tr>\n",
       "  <th>const</th>      <td> 5.616e+04</td> <td> 5438.058</td> <td>   10.328</td> <td> 0.000</td> <td> 4.55e+04</td> <td> 6.68e+04</td>\n",
       "</tr>\n",
       "<tr>\n",
       "  <th>lot-width</th>  <td> 1.742e+04</td> <td> 1164.576</td> <td>   14.955</td> <td> 0.000</td> <td> 1.51e+04</td> <td> 1.97e+04</td>\n",
       "</tr>\n",
       "<tr>\n",
       "  <th>lot-area</th>   <td>-2372.2665</td> <td> 3021.537</td> <td>   -0.785</td> <td> 0.432</td> <td>-8297.966</td> <td> 3553.433</td>\n",
       "</tr>\n",
       "<tr>\n",
       "  <th>house-area</th> <td>-6175.7954</td> <td> 1.51e+04</td> <td>   -0.409</td> <td> 0.683</td> <td>-3.58e+04</td> <td> 2.35e+04</td>\n",
       "</tr>\n",
       "<tr>\n",
       "  <th>taxvalue</th>   <td>    2.6729</td> <td>    3.777</td> <td>    0.708</td> <td> 0.479</td> <td>   -4.735</td> <td>   10.080</td>\n",
       "</tr>\n",
       "<tr>\n",
       "  <th>bathrooms</th>  <td>-3672.9828</td> <td> 2530.382</td> <td>   -1.452</td> <td> 0.147</td> <td>-8635.453</td> <td> 1289.487</td>\n",
       "</tr>\n",
       "</table>\n",
       "<table class=\"simpletable\">\n",
       "<tr>\n",
       "  <th>Omnibus:</th>       <td>172.700</td> <th>  Durbin-Watson:     </th> <td>   0.717</td>\n",
       "</tr>\n",
       "<tr>\n",
       "  <th>Prob(Omnibus):</th> <td> 0.000</td>  <th>  Jarque-Bera (JB):  </th> <td>  99.508</td>\n",
       "</tr>\n",
       "<tr>\n",
       "  <th>Skew:</th>          <td>-0.405</td>  <th>  Prob(JB):          </th> <td>2.47e-22</td>\n",
       "</tr>\n",
       "<tr>\n",
       "  <th>Kurtosis:</th>      <td> 2.266</td>  <th>  Cond. No.          </th> <td>9.54e+06</td>\n",
       "</tr>\n",
       "</table><br/><br/>Notes:<br/>[1] Standard Errors assume that the covariance matrix of the errors is correctly specified.<br/>[2] The condition number is large, 9.54e+06. This might indicate that there are<br/>strong multicollinearity or other numerical problems."
      ],
      "text/plain": [
       "<class 'statsmodels.iolib.summary.Summary'>\n",
       "\"\"\"\n",
       "                            OLS Regression Results                            \n",
       "==============================================================================\n",
       "Dep. Variable:            retailvalue   R-squared:                       0.946\n",
       "Model:                            OLS   Adj. R-squared:                  0.946\n",
       "Method:                 Least Squares   F-statistic:                     7048.\n",
       "Date:                Sun, 17 Sep 2023   Prob (F-statistic):               0.00\n",
       "Time:                        18:47:52   Log-Likelihood:                -24429.\n",
       "No. Observations:                2000   AIC:                         4.887e+04\n",
       "Df Residuals:                    1994   BIC:                         4.890e+04\n",
       "Df Model:                           5                                         \n",
       "Covariance Type:            nonrobust                                         \n",
       "==============================================================================\n",
       "                 coef    std err          t      P>|t|      [0.025      0.975]\n",
       "------------------------------------------------------------------------------\n",
       "const       5.616e+04   5438.058     10.328      0.000    4.55e+04    6.68e+04\n",
       "lot-width   1.742e+04   1164.576     14.955      0.000    1.51e+04    1.97e+04\n",
       "lot-area   -2372.2665   3021.537     -0.785      0.432   -8297.966    3553.433\n",
       "house-area -6175.7954   1.51e+04     -0.409      0.683   -3.58e+04    2.35e+04\n",
       "taxvalue       2.6729      3.777      0.708      0.479      -4.735      10.080\n",
       "bathrooms  -3672.9828   2530.382     -1.452      0.147   -8635.453    1289.487\n",
       "==============================================================================\n",
       "Omnibus:                      172.700   Durbin-Watson:                   0.717\n",
       "Prob(Omnibus):                  0.000   Jarque-Bera (JB):               99.508\n",
       "Skew:                          -0.405   Prob(JB):                     2.47e-22\n",
       "Kurtosis:                       2.266   Cond. No.                     9.54e+06\n",
       "==============================================================================\n",
       "\n",
       "Notes:\n",
       "[1] Standard Errors assume that the covariance matrix of the errors is correctly specified.\n",
       "[2] The condition number is large, 9.54e+06. This might indicate that there are\n",
       "strong multicollinearity or other numerical problems.\n",
       "\"\"\""
      ]
     },
     "execution_count": 32,
     "metadata": {},
     "output_type": "execute_result"
    }
   ],
   "source": [
    "model.summary()"
   ]
  },
  {
   "cell_type": "code",
   "execution_count": 33,
   "metadata": {},
   "outputs": [],
   "source": [
    "X =cdf[['lot-width', 'lot-area', 'house-area', 'taxvalue']]\n",
    "y =cdf[['retailvalue']]"
   ]
  },
  {
   "cell_type": "code",
   "execution_count": 34,
   "metadata": {},
   "outputs": [
    {
     "name": "stderr",
     "output_type": "stream",
     "text": [
      "C:\\Users\\user\\anaconda3\\lib\\site-packages\\statsmodels\\tsa\\tsatools.py:142: FutureWarning: In a future version of pandas all arguments of concat except for the argument 'objs' will be keyword-only\n",
      "  x = pd.concat(x[::order], 1)\n"
     ]
    }
   ],
   "source": [
    "X = sm.add_constant(X)\n",
    "model = sm.OLS(y, X).fit()"
   ]
  },
  {
   "cell_type": "code",
   "execution_count": 35,
   "metadata": {},
   "outputs": [
    {
     "data": {
      "text/html": [
       "<table class=\"simpletable\">\n",
       "<caption>OLS Regression Results</caption>\n",
       "<tr>\n",
       "  <th>Dep. Variable:</th>       <td>retailvalue</td>   <th>  R-squared:         </th> <td>   0.946</td> \n",
       "</tr>\n",
       "<tr>\n",
       "  <th>Model:</th>                   <td>OLS</td>       <th>  Adj. R-squared:    </th> <td>   0.946</td> \n",
       "</tr>\n",
       "<tr>\n",
       "  <th>Method:</th>             <td>Least Squares</td>  <th>  F-statistic:       </th> <td>   8804.</td> \n",
       "</tr>\n",
       "<tr>\n",
       "  <th>Date:</th>             <td>Sun, 17 Sep 2023</td> <th>  Prob (F-statistic):</th>  <td>  0.00</td>  \n",
       "</tr>\n",
       "<tr>\n",
       "  <th>Time:</th>                 <td>18:47:53</td>     <th>  Log-Likelihood:    </th> <td> -24430.</td> \n",
       "</tr>\n",
       "<tr>\n",
       "  <th>No. Observations:</th>      <td>  2000</td>      <th>  AIC:               </th> <td>4.887e+04</td>\n",
       "</tr>\n",
       "<tr>\n",
       "  <th>Df Residuals:</th>          <td>  1995</td>      <th>  BIC:               </th> <td>4.890e+04</td>\n",
       "</tr>\n",
       "<tr>\n",
       "  <th>Df Model:</th>              <td>     4</td>      <th>                     </th>     <td> </td>    \n",
       "</tr>\n",
       "<tr>\n",
       "  <th>Covariance Type:</th>      <td>nonrobust</td>    <th>                     </th>     <td> </td>    \n",
       "</tr>\n",
       "</table>\n",
       "<table class=\"simpletable\">\n",
       "<tr>\n",
       "       <td></td>         <th>coef</th>     <th>std err</th>      <th>t</th>      <th>P>|t|</th>  <th>[0.025</th>    <th>0.975]</th>  \n",
       "</tr>\n",
       "<tr>\n",
       "  <th>const</th>      <td> 5.353e+04</td> <td> 5127.057</td> <td>   10.440</td> <td> 0.000</td> <td> 4.35e+04</td> <td> 6.36e+04</td>\n",
       "</tr>\n",
       "<tr>\n",
       "  <th>lot-width</th>  <td> 1.742e+04</td> <td> 1164.893</td> <td>   14.956</td> <td> 0.000</td> <td> 1.51e+04</td> <td> 1.97e+04</td>\n",
       "</tr>\n",
       "<tr>\n",
       "  <th>lot-area</th>   <td>-2430.1039</td> <td> 3022.112</td> <td>   -0.804</td> <td> 0.421</td> <td>-8356.930</td> <td> 3496.723</td>\n",
       "</tr>\n",
       "<tr>\n",
       "  <th>house-area</th> <td>-6480.7582</td> <td> 1.51e+04</td> <td>   -0.429</td> <td> 0.668</td> <td>-3.61e+04</td> <td> 2.32e+04</td>\n",
       "</tr>\n",
       "<tr>\n",
       "  <th>taxvalue</th>   <td>    2.7450</td> <td>    3.778</td> <td>    0.727</td> <td> 0.468</td> <td>   -4.664</td> <td>   10.154</td>\n",
       "</tr>\n",
       "</table>\n",
       "<table class=\"simpletable\">\n",
       "<tr>\n",
       "  <th>Omnibus:</th>       <td>172.504</td> <th>  Durbin-Watson:     </th> <td>   0.714</td>\n",
       "</tr>\n",
       "<tr>\n",
       "  <th>Prob(Omnibus):</th> <td> 0.000</td>  <th>  Jarque-Bera (JB):  </th> <td>  99.917</td>\n",
       "</tr>\n",
       "<tr>\n",
       "  <th>Skew:</th>          <td>-0.407</td>  <th>  Prob(JB):          </th> <td>2.01e-22</td>\n",
       "</tr>\n",
       "<tr>\n",
       "  <th>Kurtosis:</th>      <td> 2.267</td>  <th>  Cond. No.          </th> <td>9.54e+06</td>\n",
       "</tr>\n",
       "</table><br/><br/>Notes:<br/>[1] Standard Errors assume that the covariance matrix of the errors is correctly specified.<br/>[2] The condition number is large, 9.54e+06. This might indicate that there are<br/>strong multicollinearity or other numerical problems."
      ],
      "text/plain": [
       "<class 'statsmodels.iolib.summary.Summary'>\n",
       "\"\"\"\n",
       "                            OLS Regression Results                            \n",
       "==============================================================================\n",
       "Dep. Variable:            retailvalue   R-squared:                       0.946\n",
       "Model:                            OLS   Adj. R-squared:                  0.946\n",
       "Method:                 Least Squares   F-statistic:                     8804.\n",
       "Date:                Sun, 17 Sep 2023   Prob (F-statistic):               0.00\n",
       "Time:                        18:47:53   Log-Likelihood:                -24430.\n",
       "No. Observations:                2000   AIC:                         4.887e+04\n",
       "Df Residuals:                    1995   BIC:                         4.890e+04\n",
       "Df Model:                           4                                         \n",
       "Covariance Type:            nonrobust                                         \n",
       "==============================================================================\n",
       "                 coef    std err          t      P>|t|      [0.025      0.975]\n",
       "------------------------------------------------------------------------------\n",
       "const       5.353e+04   5127.057     10.440      0.000    4.35e+04    6.36e+04\n",
       "lot-width   1.742e+04   1164.893     14.956      0.000    1.51e+04    1.97e+04\n",
       "lot-area   -2430.1039   3022.112     -0.804      0.421   -8356.930    3496.723\n",
       "house-area -6480.7582   1.51e+04     -0.429      0.668   -3.61e+04    2.32e+04\n",
       "taxvalue       2.7450      3.778      0.727      0.468      -4.664      10.154\n",
       "==============================================================================\n",
       "Omnibus:                      172.504   Durbin-Watson:                   0.714\n",
       "Prob(Omnibus):                  0.000   Jarque-Bera (JB):               99.917\n",
       "Skew:                          -0.407   Prob(JB):                     2.01e-22\n",
       "Kurtosis:                       2.267   Cond. No.                     9.54e+06\n",
       "==============================================================================\n",
       "\n",
       "Notes:\n",
       "[1] Standard Errors assume that the covariance matrix of the errors is correctly specified.\n",
       "[2] The condition number is large, 9.54e+06. This might indicate that there are\n",
       "strong multicollinearity or other numerical problems.\n",
       "\"\"\""
      ]
     },
     "execution_count": 35,
     "metadata": {},
     "output_type": "execute_result"
    }
   ],
   "source": [
    "model.summary()"
   ]
  },
  {
   "cell_type": "code",
   "execution_count": 36,
   "metadata": {},
   "outputs": [],
   "source": [
    "X =cdf[['lot-width', 'lot-area', 'taxvalue']]\n",
    "y =cdf[['retailvalue']]"
   ]
  },
  {
   "cell_type": "code",
   "execution_count": 37,
   "metadata": {},
   "outputs": [
    {
     "name": "stderr",
     "output_type": "stream",
     "text": [
      "C:\\Users\\user\\anaconda3\\lib\\site-packages\\statsmodels\\tsa\\tsatools.py:142: FutureWarning: In a future version of pandas all arguments of concat except for the argument 'objs' will be keyword-only\n",
      "  x = pd.concat(x[::order], 1)\n"
     ]
    }
   ],
   "source": [
    "X = sm.add_constant(X)\n",
    "model = sm.OLS(y, X).fit()"
   ]
  },
  {
   "cell_type": "code",
   "execution_count": 38,
   "metadata": {},
   "outputs": [
    {
     "data": {
      "text/html": [
       "<table class=\"simpletable\">\n",
       "<caption>OLS Regression Results</caption>\n",
       "<tr>\n",
       "  <th>Dep. Variable:</th>       <td>retailvalue</td>   <th>  R-squared:         </th> <td>   0.946</td> \n",
       "</tr>\n",
       "<tr>\n",
       "  <th>Model:</th>                   <td>OLS</td>       <th>  Adj. R-squared:    </th> <td>   0.946</td> \n",
       "</tr>\n",
       "<tr>\n",
       "  <th>Method:</th>             <td>Least Squares</td>  <th>  F-statistic:       </th> <td>1.174e+04</td>\n",
       "</tr>\n",
       "<tr>\n",
       "  <th>Date:</th>             <td>Sun, 17 Sep 2023</td> <th>  Prob (F-statistic):</th>  <td>  0.00</td>  \n",
       "</tr>\n",
       "<tr>\n",
       "  <th>Time:</th>                 <td>18:47:53</td>     <th>  Log-Likelihood:    </th> <td> -24431.</td> \n",
       "</tr>\n",
       "<tr>\n",
       "  <th>No. Observations:</th>      <td>  2000</td>      <th>  AIC:               </th> <td>4.887e+04</td>\n",
       "</tr>\n",
       "<tr>\n",
       "  <th>Df Residuals:</th>          <td>  1996</td>      <th>  BIC:               </th> <td>4.889e+04</td>\n",
       "</tr>\n",
       "<tr>\n",
       "  <th>Df Model:</th>              <td>     3</td>      <th>                     </th>     <td> </td>    \n",
       "</tr>\n",
       "<tr>\n",
       "  <th>Covariance Type:</th>      <td>nonrobust</td>    <th>                     </th>     <td> </td>    \n",
       "</tr>\n",
       "</table>\n",
       "<table class=\"simpletable\">\n",
       "<tr>\n",
       "      <td></td>         <th>coef</th>     <th>std err</th>      <th>t</th>      <th>P>|t|</th>  <th>[0.025</th>    <th>0.975]</th>  \n",
       "</tr>\n",
       "<tr>\n",
       "  <th>const</th>     <td> 5.345e+04</td> <td> 5123.033</td> <td>   10.434</td> <td> 0.000</td> <td> 4.34e+04</td> <td> 6.35e+04</td>\n",
       "</tr>\n",
       "<tr>\n",
       "  <th>lot-width</th> <td> 1.743e+04</td> <td> 1164.295</td> <td>   14.974</td> <td> 0.000</td> <td> 1.52e+04</td> <td> 1.97e+04</td>\n",
       "</tr>\n",
       "<tr>\n",
       "  <th>lot-area</th>  <td>-1134.1309</td> <td>   48.283</td> <td>  -23.489</td> <td> 0.000</td> <td>-1228.821</td> <td>-1039.441</td>\n",
       "</tr>\n",
       "<tr>\n",
       "  <th>taxvalue</th>  <td>    1.1248</td> <td>    0.009</td> <td>  121.484</td> <td> 0.000</td> <td>    1.107</td> <td>    1.143</td>\n",
       "</tr>\n",
       "</table>\n",
       "<table class=\"simpletable\">\n",
       "<tr>\n",
       "  <th>Omnibus:</th>       <td>171.197</td> <th>  Durbin-Watson:     </th> <td>   0.713</td>\n",
       "</tr>\n",
       "<tr>\n",
       "  <th>Prob(Omnibus):</th> <td> 0.000</td>  <th>  Jarque-Bera (JB):  </th> <td>  99.826</td>\n",
       "</tr>\n",
       "<tr>\n",
       "  <th>Skew:</th>          <td>-0.408</td>  <th>  Prob(JB):          </th> <td>2.10e-22</td>\n",
       "</tr>\n",
       "<tr>\n",
       "  <th>Kurtosis:</th>      <td> 2.270</td>  <th>  Cond. No.          </th> <td>3.20e+06</td>\n",
       "</tr>\n",
       "</table><br/><br/>Notes:<br/>[1] Standard Errors assume that the covariance matrix of the errors is correctly specified.<br/>[2] The condition number is large, 3.2e+06. This might indicate that there are<br/>strong multicollinearity or other numerical problems."
      ],
      "text/plain": [
       "<class 'statsmodels.iolib.summary.Summary'>\n",
       "\"\"\"\n",
       "                            OLS Regression Results                            \n",
       "==============================================================================\n",
       "Dep. Variable:            retailvalue   R-squared:                       0.946\n",
       "Model:                            OLS   Adj. R-squared:                  0.946\n",
       "Method:                 Least Squares   F-statistic:                 1.174e+04\n",
       "Date:                Sun, 17 Sep 2023   Prob (F-statistic):               0.00\n",
       "Time:                        18:47:53   Log-Likelihood:                -24431.\n",
       "No. Observations:                2000   AIC:                         4.887e+04\n",
       "Df Residuals:                    1996   BIC:                         4.889e+04\n",
       "Df Model:                           3                                         \n",
       "Covariance Type:            nonrobust                                         \n",
       "==============================================================================\n",
       "                 coef    std err          t      P>|t|      [0.025      0.975]\n",
       "------------------------------------------------------------------------------\n",
       "const       5.345e+04   5123.033     10.434      0.000    4.34e+04    6.35e+04\n",
       "lot-width   1.743e+04   1164.295     14.974      0.000    1.52e+04    1.97e+04\n",
       "lot-area   -1134.1309     48.283    -23.489      0.000   -1228.821   -1039.441\n",
       "taxvalue       1.1248      0.009    121.484      0.000       1.107       1.143\n",
       "==============================================================================\n",
       "Omnibus:                      171.197   Durbin-Watson:                   0.713\n",
       "Prob(Omnibus):                  0.000   Jarque-Bera (JB):               99.826\n",
       "Skew:                          -0.408   Prob(JB):                     2.10e-22\n",
       "Kurtosis:                       2.270   Cond. No.                     3.20e+06\n",
       "==============================================================================\n",
       "\n",
       "Notes:\n",
       "[1] Standard Errors assume that the covariance matrix of the errors is correctly specified.\n",
       "[2] The condition number is large, 3.2e+06. This might indicate that there are\n",
       "strong multicollinearity or other numerical problems.\n",
       "\"\"\""
      ]
     },
     "execution_count": 38,
     "metadata": {},
     "output_type": "execute_result"
    }
   ],
   "source": [
    "model.summary()"
   ]
  },
  {
   "cell_type": "code",
   "execution_count": 50,
   "metadata": {},
   "outputs": [
    {
     "data": {
      "text/html": [
       "<div>\n",
       "<style scoped>\n",
       "    .dataframe tbody tr th:only-of-type {\n",
       "        vertical-align: middle;\n",
       "    }\n",
       "\n",
       "    .dataframe tbody tr th {\n",
       "        vertical-align: top;\n",
       "    }\n",
       "\n",
       "    .dataframe thead th {\n",
       "        text-align: right;\n",
       "    }\n",
       "</style>\n",
       "<table border=\"1\" class=\"dataframe\">\n",
       "  <thead>\n",
       "    <tr style=\"text-align: right;\">\n",
       "      <th></th>\n",
       "      <th>lot-width</th>\n",
       "      <th>lot-area</th>\n",
       "      <th>taxvalue</th>\n",
       "    </tr>\n",
       "  </thead>\n",
       "  <tbody>\n",
       "    <tr>\n",
       "      <th>lot-width</th>\n",
       "      <td>1.000000</td>\n",
       "      <td>0.745588</td>\n",
       "      <td>0.757407</td>\n",
       "    </tr>\n",
       "    <tr>\n",
       "      <th>lot-area</th>\n",
       "      <td>0.745588</td>\n",
       "      <td>1.000000</td>\n",
       "      <td>0.629712</td>\n",
       "    </tr>\n",
       "    <tr>\n",
       "      <th>taxvalue</th>\n",
       "      <td>0.757407</td>\n",
       "      <td>0.629712</td>\n",
       "      <td>1.000000</td>\n",
       "    </tr>\n",
       "  </tbody>\n",
       "</table>\n",
       "</div>"
      ],
      "text/plain": [
       "           lot-width  lot-area  taxvalue\n",
       "lot-width   1.000000  0.745588  0.757407\n",
       "lot-area    0.745588  1.000000  0.629712\n",
       "taxvalue    0.757407  0.629712  1.000000"
      ]
     },
     "execution_count": 50,
     "metadata": {},
     "output_type": "execute_result"
    }
   ],
   "source": [
    "# to check further we plot the variables against each other \n",
    "\n",
    "import matplotlib.pyplot as plb\n",
    "X.iloc[:,1:].corr()"
   ]
  },
  {
   "cell_type": "markdown",
   "metadata": {},
   "source": [
    "* The high values shows there is multicollinearity issue with these features in the data. \n",
    "* it means some features can be dropped and it wont affect the model. \n",
    "* also the around 70% correlation with eachother is an indication we can use each of them to replace the other\n",
    "* we dropped house-area"
   ]
  },
  {
   "cell_type": "code",
   "execution_count": 39,
   "metadata": {},
   "outputs": [],
   "source": [
    "new_df = cdf[['lot-width','lot-area','taxvalue','retailvalue']]"
   ]
  },
  {
   "cell_type": "markdown",
   "metadata": {},
   "source": [
    "# Train & Test Split of Data"
   ]
  },
  {
   "cell_type": "code",
   "execution_count": 40,
   "metadata": {},
   "outputs": [],
   "source": [
    "msk = np.random.rand(len(df)) < 0.8\n",
    "train = new_df[msk]\n",
    "test = new_df[~msk]"
   ]
  },
  {
   "cell_type": "code",
   "execution_count": 41,
   "metadata": {},
   "outputs": [
    {
     "data": {
      "image/png": "[encoded data removed]",
      "text/plain": [
       "<Figure size 432x288 with 1 Axes>"
      ]
     },
     "metadata": {
      "needs_background": "light"
     },
     "output_type": "display_data"
    }
   ],
   "source": [
    "plt.scatter(train.taxvalue, train.retailvalue,  color='blue')\n",
    "plt.xlabel(\"taxvalue\")\n",
    "plt.ylabel(\"retailvalue\")\n",
    "plt.show()"
   ]
  },
  {
   "cell_type": "markdown",
   "metadata": {},
   "source": [
    "# Model Creation"
   ]
  },
  {
   "cell_type": "code",
   "execution_count": 42,
   "metadata": {},
   "outputs": [],
   "source": [
    "from sklearn import linear_model\n",
    "regr = linear_model.LinearRegression()"
   ]
  },
  {
   "cell_type": "code",
   "execution_count": 43,
   "metadata": {},
   "outputs": [],
   "source": [
    "x = np.asanyarray(train[['lot-width','lot-area','taxvalue']])\n",
    "y = np.asanyarray(train[['retailvalue']])"
   ]
  },
  {
   "cell_type": "markdown",
   "metadata": {},
   "source": [
    "# Fit the Model"
   ]
  },
  {
   "cell_type": "code",
   "execution_count": 44,
   "metadata": {},
   "outputs": [
    {
     "data": {
      "text/plain": [
       "LinearRegression()"
      ]
     },
     "execution_count": 44,
     "metadata": {},
     "output_type": "execute_result"
    }
   ],
   "source": [
    "regr.fit (x, y)"
   ]
  },
  {
   "cell_type": "code",
   "execution_count": 45,
   "metadata": {},
   "outputs": [
    {
     "name": "stdout",
     "output_type": "stream",
     "text": [
      "Coefficients:  [[ 1.72054313e+04 -1.11011631e+03  1.12237320e+00]]\n"
     ]
    }
   ],
   "source": [
    "print ('Coefficients: ', regr.coef_)"
   ]
  },
  {
   "cell_type": "markdown",
   "metadata": {},
   "source": [
    "# Model Evaluation/Prediction"
   ]
  },
  {
   "cell_type": "markdown",
   "metadata": {},
   "source": [
    "## Ordinary Least Squares (OLS)\n",
    "\n",
    "OLS is a method for estimating the unknown parameters in a linear regression model. OLS chooses the parameters of a linear function of a set of explanatory variables by minimizing the sum of the squares of the differences between the target dependent variable and those predicted by the linear function. In other words, it tries to minimizes the sum of squared errors (SSE) or mean squared error (MSE) between the target variable (y) and our predicted output ( \n",
    "^\n",
    "y\n",
    " ) over all samples in the dataset.\n",
    "\n",
    "OLS can find the best parameters using of the following methods:\n",
    "\n",
    "* Solving the model parameters analytically using closed-form equations\n",
    "* Using an optimization algorithm (Gradient Descent, Stochastic Gradient Descent, Newton’s Method, etc.)"
   ]
  },
  {
   "attachments": {
    "image.png": {
     "image/png": "[encoded data removed]"
    }
   },
   "cell_type": "markdown",
   "metadata": {},
   "source": [
    "![image.png](attachment:image.png)"
   ]
  },
  {
   "cell_type": "code",
   "execution_count": 46,
   "metadata": {},
   "outputs": [],
   "source": [
    "y_hat= regr.predict(test[['lot-width','lot-area','taxvalue']])"
   ]
  },
  {
   "cell_type": "code",
   "execution_count": 47,
   "metadata": {},
   "outputs": [],
   "source": [
    "x = np.asanyarray(test[['lot-width','lot-area','taxvalue']])\n",
    "y = np.asanyarray(test[['retailvalue']])"
   ]
  },
  {
   "cell_type": "code",
   "execution_count": 48,
   "metadata": {},
   "outputs": [
    {
     "name": "stdout",
     "output_type": "stream",
     "text": [
      "Residual sum of squares: 2402295762.77\n"
     ]
    }
   ],
   "source": [
    "print(\"Residual sum of squares: %.2f\"\n",
    "      % np.mean((y_hat - y) ** 2))"
   ]
  },
  {
   "cell_type": "code",
   "execution_count": 49,
   "metadata": {},
   "outputs": [
    {
     "name": "stdout",
     "output_type": "stream",
     "text": [
      "Variance score: 0.94\n"
     ]
    }
   ],
   "source": [
    "print('Variance score: %.2f' % regr.score(x, y))"
   ]
  },
  {
   "cell_type": "markdown",
   "metadata": {},
   "source": [
    "### Remarks\n",
    "\n",
    "* our Variance score 0.94 is very high meaning we can rely on our model to make predictions"
   ]
  },
  {
   "cell_type": "markdown",
   "metadata": {},
   "source": [
    "### Replacing lot-area with house-area to see the prediction results"
   ]
  },
  {
   "cell_type": "code",
   "execution_count": 52,
   "metadata": {},
   "outputs": [],
   "source": [
    "try_df = cdf[['lot-width','house-area','taxvalue','retailvalue']]"
   ]
  },
  {
   "cell_type": "code",
   "execution_count": 53,
   "metadata": {},
   "outputs": [],
   "source": [
    "msk = np.random.rand(len(df)) < 0.8\n",
    "train = try_df[msk]\n",
    "test = try_df[~msk]"
   ]
  },
  {
   "cell_type": "code",
   "execution_count": 54,
   "metadata": {},
   "outputs": [],
   "source": [
    "x = np.asanyarray(train[['lot-width','house-area','taxvalue']])\n",
    "y = np.asanyarray(train[['retailvalue']])"
   ]
  },
  {
   "cell_type": "code",
   "execution_count": 55,
   "metadata": {},
   "outputs": [
    {
     "data": {
      "text/plain": [
       "LinearRegression()"
      ]
     },
     "execution_count": 55,
     "metadata": {},
     "output_type": "execute_result"
    }
   ],
   "source": [
    "regr.fit (x, y)"
   ]
  },
  {
   "cell_type": "code",
   "execution_count": 56,
   "metadata": {},
   "outputs": [
    {
     "name": "stdout",
     "output_type": "stream",
     "text": [
      "Coefficients:  [[ 1.75035373e+04  5.50917702e+03 -2.60373025e-01]]\n"
     ]
    }
   ],
   "source": [
    "print ('Coefficients: ', regr.coef_)"
   ]
  },
  {
   "cell_type": "code",
   "execution_count": 57,
   "metadata": {},
   "outputs": [],
   "source": [
    "y_hat= regr.predict(test[['lot-width','house-area','taxvalue']])"
   ]
  },
  {
   "cell_type": "code",
   "execution_count": 58,
   "metadata": {},
   "outputs": [],
   "source": [
    "x = np.asanyarray(test[['lot-width','house-area','taxvalue']])\n",
    "y = np.asanyarray(test[['retailvalue']])"
   ]
  },
  {
   "cell_type": "code",
   "execution_count": 59,
   "metadata": {},
   "outputs": [
    {
     "name": "stdout",
     "output_type": "stream",
     "text": [
      "Variance score: 0.95\n"
     ]
    }
   ],
   "source": [
    "print('Variance score: %.2f' % regr.score(x, y))"
   ]
  },
  {
   "cell_type": "markdown",
   "metadata": {},
   "source": [
    "### Further Remarks\n",
    "\n",
    "* Further work can be done on the data by including more data in the model or using other unused data to compare results\n",
    "* Some features have very high data values while others are low, some standardisation to make them all between 0 and 1 could also be done to check compare the results"
   ]
  },
  {
   "cell_type": "code",
   "execution_count": null,
   "metadata": {},
   "outputs": [],
   "source": []
  }
 ],
 "metadata": {
  "kernelspec": {
   "display_name": "Python 3",
   "language": "python",
   "name": "python3"
  },
  "language_info": {
   "codemirror_mode": {
    "name": "ipython",
    "version": 3
   },
   "file_extension": ".py",
   "mimetype": "text/x-python",
   "name": "python",
   "nbconvert_exporter": "python",
   "pygments_lexer": "ipython3",
   "version": "3.8.5"
  }
 },
 "nbformat": 4,
 "nbformat_minor": 4
}
